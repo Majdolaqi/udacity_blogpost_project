{
 "cells": [
  {
   "cell_type": "markdown",
   "metadata": {},
   "source": [
    "## Analysing Salary Trends for the period: 2011-2019"
   ]
  },
  {
   "cell_type": "markdown",
   "metadata": {},
   "source": [
    "#### Pre-requisite step: Viewing the data"
   ]
  },
  {
   "cell_type": "code",
   "execution_count": 1,
   "metadata": {},
   "outputs": [
    {
     "name": "stdout",
     "output_type": "stream",
     "text": [
      "Index(['What Country or Region do you live in?',\n",
      "       'Which US State or Territory do you live in?', 'How old are you?',\n",
      "       'How many years of IT/Programming experience do you have?',\n",
      "       'How would you best describe the industry you work in?',\n",
      "       'Which best describes the size of your company?',\n",
      "       'Which of the following best describes your occupation?',\n",
      "       'How likely is it that a recommendation you make will be acted upon?',\n",
      "       'What is your involvement in purchasing? You can choose more than 1.',\n",
      "       'What types of purchases are you involved in?',\n",
      "       'What is your budget for outside expenditures (hardware, software, consulting, etc) for 2011?',\n",
      "       'What type of project are you developing?',\n",
      "       'Which languages are you proficient in?',\n",
      "       'What operating system do you use the most?',\n",
      "       'Please rate your job/career satisfaction',\n",
      "       'Including bonus, what is your annual compensation in USD?',\n",
      "       'Which technology products do you own? (You can choose more than one)',\n",
      "       'In the last 12 months, how much money have you spent on personal technology-related purchases? ',\n",
      "       'Which of our sites do you frequent most?'],\n",
      "      dtype='object')\n"
     ]
    }
   ],
   "source": [
    "import numpy as np\n",
    "import pandas as pd\n",
    "import matplotlib.pyplot as plt\n",
    "from IPython import display\n",
    "%matplotlib inline\n",
    "\n",
    "df11 = pd.read_csv('./stack_overflow_2011.csv', encoding = \"ISO-8859-1\")\n",
    "cols = list(df11.columns)\n",
    "\n",
    "# Removing 'Unnamed' cols for clarity.\n",
    "# In further cells, 'Unnamed' cols will be retained.\n",
    "df11_named = df11\n",
    "for col in cols:\n",
    "    if \"Unnamed\" in col:\n",
    "        #print(df[col])\n",
    "        df11_named = df11_named.drop(col, axis=1)\n",
    "        \n",
    "print(df11_named.columns)"
   ]
  },
  {
   "cell_type": "code",
   "execution_count": 2,
   "metadata": {},
   "outputs": [
    {
     "name": "stdout",
     "output_type": "stream",
     "text": [
      "Index(['What Country or Region do you live in?',\n",
      "       'Which US State or Territory do you live in?', 'How old are you?',\n",
      "       'How many years of IT/Programming experience do you have?',\n",
      "       'How would you best describe the industry you currently work in?',\n",
      "       'Which best describes the size of your company?',\n",
      "       'Which of the following best describes your occupation?',\n",
      "       'What is your involvement in purchasing products or services for the company you work for? (You can choose more than one)',\n",
      "       'What types of purchases are you involved in?',\n",
      "       'What is your budget for outside expenditures (hardware, software, consulting, etc) for 2011?',\n",
      "       'What type of project are you developing?',\n",
      "       'Which languages are you proficient in?',\n",
      "       'Which desktop operating system do you use the most?',\n",
      "       'What best describes your career / job satisfaction? ',\n",
      "       'Including bonus, what is your annual compensation in USD?',\n",
      "       'Have you visited / Are you aware of Stack Overflow Careers?',\n",
      "       'Do you have a Stack Overflow Careers Profile?',\n",
      "       'You answered you don't have a Careers profile, can you elaborate why?',\n",
      "       'Which technology products do you own? (You can choose more than one)',\n",
      "       'In the last 12 months, how much money have you spent on personal technology-related purchases? ',\n",
      "       'Please rate the advertising you've seen on Stack Overflow',\n",
      "       'What advertisers do you remember seeing on Stack Overflow?',\n",
      "       'What is your current Stack Overflow reputation?',\n",
      "       'Which of our sites do you frequent most?'],\n",
      "      dtype='object')\n"
     ]
    }
   ],
   "source": [
    "df12 = pd.read_csv('./stack_overflow_2012.csv', encoding = \"ISO-8859-1\")\n",
    "cols = list(df12.columns)\n",
    "\n",
    "# Removing 'Unnamed' cols for clarity.\n",
    "# In further cells, 'Unnamed' cols will be retained.\n",
    "df12_named = df12\n",
    "for col in cols:\n",
    "    if \"Unnamed\" in col:\n",
    "        #print(df[col])\n",
    "        df12_named = df12_named.drop(col, axis=1)\n",
    "        \n",
    "print(df12_named.columns)"
   ]
  },
  {
   "cell_type": "code",
   "execution_count": 3,
   "metadata": {},
   "outputs": [
    {
     "name": "stderr",
     "output_type": "stream",
     "text": [
      "/Library/Python/3.7/site-packages/IPython/core/interactiveshell.py:3063: DtypeWarning: Columns (46,48,62) have mixed types.Specify dtype option on import or set low_memory=False.\n",
      "  interactivity=interactivity, compiler=compiler, result=result)\n"
     ]
    },
    {
     "name": "stdout",
     "output_type": "stream",
     "text": [
      "Index(['What Country or Region do you live in?',\n",
      "       'Which US State or Territory do you live in?', 'How old are you?',\n",
      "       'How many years of IT/Programming experience do you have?',\n",
      "       'How would you best describe the industry you currently work in?',\n",
      "       'How many people work for your company?',\n",
      "       'Which of the following best describes your occupation?',\n",
      "       'Including yourself, how many developers are employed at your company?',\n",
      "       'How large is the team that you work on?',\n",
      "       'What other departments / roles do you interact with regularly?',\n",
      "       'If your company has a native mobile app, what platforms do you support?',\n",
      "       'If you make a software product, how does your company make money? (You can choose more than one)',\n",
      "       'In an average week, how do you spend your time?',\n",
      "       'What is your involvement in purchasing products or services for the company you work for? (You can choose more than one)',\n",
      "       'What types of purchases are you involved in?',\n",
      "       'What is your budget for outside expenditures (hardware, software, consulting, etc) for 2013?',\n",
      "       'Which of the following languages or technologies have you used significantly in the past year?',\n",
      "       'Which technologies are you excited about?',\n",
      "       'Which desktop operating system do you use the most?',\n",
      "       'Please rate how important each of the following characteristics of a company/job offer are to you.    Please select a MAXIMUM of 3 items as \"Non-Negotiables\" to help us identify the most important items, those where you would never consider a company if they didn't meet them.',\n",
      "       'Have you changed jobs in the last 12 months?',\n",
      "       'What best describes your career / job satisfaction?',\n",
      "       'Including bonus, what is your annual compensation in USD?',\n",
      "       'Which technology products do you own? (You can choose more than one)',\n",
      "       'In the last 12 months, how much money have you spent on personal technology-related purchases?',\n",
      "       'Please rate the advertising you've seen on Stack Overflow',\n",
      "       'What advertisers do you remember seeing on Stack Overflow?',\n",
      "       'What is your current Stack Overflow reputation?',\n",
      "       'How do you use Stack Overflow?'],\n",
      "      dtype='object')\n"
     ]
    }
   ],
   "source": [
    "df13 = pd.read_csv('./stack_overflow_2013.csv', encoding = \"ISO-8859-1\")\n",
    "cols = list(df13.columns)\n",
    "\n",
    "# Removing 'Unnamed' cols for clarity.\n",
    "# In further cells, 'Unnamed' cols will be retained.\n",
    "df13_named = df13\n",
    "for col in cols:\n",
    "    if \"Unnamed\" in col:\n",
    "        #print(df[col])\n",
    "        df13_named = df13_named.drop(col, axis=1)\n",
    "        \n",
    "print(df13_named.columns)"
   ]
  },
  {
   "cell_type": "code",
   "execution_count": 4,
   "metadata": {},
   "outputs": [
    {
     "name": "stdout",
     "output_type": "stream",
     "text": [
      "Index(['What Country do you live in?',\n",
      "       'Which US State or Territory do you live in?', 'How old are you?',\n",
      "       'What is your gender?',\n",
      "       'How many years of IT/Programming experience do you have?',\n",
      "       'Which of the following best describes your occupation?',\n",
      "       'Including bonus, what is your annual compensation in USD?',\n",
      "       'How would you best describe the industry you currently work in?',\n",
      "       'How many developers are employed at your company?',\n",
      "       'Do you work remotely?', 'Do you enjoy working remotely?',\n",
      "       'Where do you work remotely most of the time?',\n",
      "       'If your company has a native mobile app, what platforms do you support?',\n",
      "       'In an average week, how do you spend your time at work?',\n",
      "       'What is your involvement in purchasing products or services for the company you work for? (You can choose more than one)',\n",
      "       'What types of purchases are you involved in?',\n",
      "       'What is your budget for outside expenditures (hardware, software, consulting, etc) for 2014?',\n",
      "       'Which of the following languages or technologies have you used significantly in the past year?',\n",
      "       'Which technologies are you excited about?',\n",
      "       'Which desktop operating system do you use the most?',\n",
      "       'Which technology products do you own? (You can choose more than one)',\n",
      "       'Have you changed jobs in the last 12 months?',\n",
      "       'How did you find out about your current job?',\n",
      "       'Are you currently looking for a job or open to new opportunities?',\n",
      "       'How often are you contacted by recruiters?',\n",
      "       'How do you prefer to be contacted about job opportunities?',\n",
      "       'In receiving an email about a job opportunity, what attributes of the message would make you more likely to respond?',\n",
      "       'How often do you visit job boards?',\n",
      "       'Have you visited / Are you aware of Stack Overflow Careers 2.0?',\n",
      "       'Do you have a Stack Overflow Careers 2.0 Profile?',\n",
      "       'Please rate the advertising you've seen on Stack Overflow',\n",
      "       'Were you aware of the Apptivate contest?',\n",
      "       'Did you participate in the Apptivate contest?',\n",
      "       'What advertisers do you remember seeing on Stack Overflow?',\n",
      "       'What is your current Stack Overflow reputation?',\n",
      "       'How do you use Stack Overflow?',\n",
      "       'How often do you find solutions to your programming problems on Stack Overflow without asking a new question?'],\n",
      "      dtype='object')\n"
     ]
    }
   ],
   "source": [
    "df14 = pd.read_csv('./stack_overflow_2014.csv', encoding = \"ISO-8859-1\")\n",
    "cols = list(df14.columns)\n",
    "\n",
    "# Removing 'Unnamed' cols for clarity.\n",
    "# In further cells, 'Unnamed' cols will be retained.\n",
    "df14_named = df14\n",
    "for col in cols:\n",
    "    if \"Unnamed\" in col:\n",
    "        #print(df[col])\n",
    "        df14_named = df14_named.drop(col, axis=1)\n",
    "        \n",
    "print(df14_named.columns)"
   ]
  },
  {
   "cell_type": "code",
   "execution_count": 5,
   "metadata": {},
   "outputs": [
    {
     "name": "stdout",
     "output_type": "stream",
     "text": [
      "['Country', 'Age', 'Gender', 'Tabs or Spaces', 'Years IT / Programming Experience', 'Occupation', 'Desktop Operating System', 'Desktop Operating System: write-in', 'Current Lang & Tech: Android', 'Current Lang & Tech: Arduino', 'Current Lang & Tech: AngularJS', 'Current Lang & Tech: C', 'Current Lang & Tech: C++', 'Current Lang & Tech: C++11', 'Current Lang & Tech: C#', 'Current Lang & Tech: Cassandra', 'Current Lang & Tech: CoffeeScript', 'Current Lang & Tech: Cordova', 'Current Lang & Tech: Clojure', 'Current Lang & Tech: Cloud', 'Current Lang & Tech: Dart', 'Current Lang & Tech: F#', 'Current Lang & Tech: Go', 'Current Lang & Tech: Hadoop', 'Current Lang & Tech: Haskell', 'Current Lang & Tech: iOS', 'Current Lang & Tech: Java', 'Current Lang & Tech: JavaScript', 'Current Lang & Tech: LAMP', 'Current Lang & Tech: Matlab', 'Current Lang & Tech: MongoDB', 'Current Lang & Tech: Node.js', 'Current Lang & Tech: Objective-C', 'Current Lang & Tech: Perl', 'Current Lang & Tech: PHP', 'Current Lang & Tech: Python', 'Current Lang & Tech: R', 'Current Lang & Tech: Redis', 'Current Lang & Tech: Ruby', 'Current Lang & Tech: Rust', 'Current Lang & Tech: Salesforce', 'Current Lang & Tech: Scala', 'Current Lang & Tech: Sharepoint', 'Current Lang & Tech: Spark', 'Current Lang & Tech: SQL', 'Current Lang & Tech: SQL Server', 'Current Lang & Tech: Swift', 'Current Lang & Tech: Visual Basic', 'Current Lang & Tech: Windows Phone', 'Current Lang & Tech: Wordpress', 'Current Lang & Tech: Write-In', 'Future Lang & Tech: Android', 'Future Lang & Tech: Arduino', 'Future Lang & Tech: AngularJS', 'Future Lang & Tech: C', 'Future Lang & Tech: C++', 'Future Lang & Tech: C++11', 'Future Lang & Tech: C#', 'Future Lang & Tech: Cassandra', 'Future Lang & Tech: CoffeeScript', 'Future Lang & Tech: Cordova', 'Future Lang & Tech: Clojure', 'Future Lang & Tech: Cloud', 'Future Lang & Tech: Dart', 'Future Lang & Tech: F#', 'Future Lang & Tech: Go', 'Future Lang & Tech: Hadoop', 'Future Lang & Tech: Haskell', 'Future Lang & Tech: iOS', 'Future Lang & Tech: Java', 'Future Lang & Tech: JavaScript', 'Future Lang & Tech: LAMP', 'Future Lang & Tech: Matlab', 'Future Lang & Tech: MongoDB', 'Future Lang & Tech: Node.js', 'Future Lang & Tech: Objective-C', 'Future Lang & Tech: Perl', 'Future Lang & Tech: PHP', 'Future Lang & Tech: Python', 'Future Lang & Tech: R', 'Future Lang & Tech: Redis', 'Future Lang & Tech: Ruby', 'Future Lang & Tech: Rust', 'Future Lang & Tech: Salesforce', 'Future Lang & Tech: Scala', 'Future Lang & Tech: Sharepoint', 'Future Lang & Tech: Spark', 'Future Lang & Tech: SQL', 'Future Lang & Tech: SQL Server', 'Future Lang & Tech: Swift', 'Future Lang & Tech: Visual Basic', 'Future Lang & Tech: Windows Phone', 'Future Lang & Tech: Wordpress', 'Future Lang & Tech: Write-In', 'Training & Education: No formal training', 'Training & Education: On the job', 'Training & Education: Boot camp or night school', 'Training & Education: Online Class', 'Training & Education: Mentorship', 'Training & Education: Industry certification', 'Training & Education: Some college, but no CS degree', 'Training & Education: BS in CS', 'Training & Education: Masters in CS', 'Training & Education: PhD in CS', 'Training & Education: Other', 'Compensation', 'Compensation: midpoint', 'Employment Status', 'Industry', 'Job Satisfaction', 'Purchasing Power', 'Remote Status', 'Changed Jobs in last 12 Months', 'Open to new job opportunities', 'Most important aspect of new job opportunity: Salary', 'Most important aspect of new job opportunity: Equity', 'Most important aspect of new job opportunity: Important decisions', 'Most important aspect of new job opportunity: Health insurance', 'Most important aspect of new job opportunity: Industry', 'Most important aspect of new job opportunity: Tech stack', 'Most important aspect of new job opportunity: Company size', 'Most important aspect of new job opportunity: Company stage', 'Most important aspect of new job opportunity: Work - Life balance', 'Most important aspect of new job opportunity: Advancement', 'Most important aspect of new job opportunity: Job title', 'Most important aspect of new job opportunity: Office location', 'Most important aspect of new job opportunity: Quality of colleagues', 'Most important aspect of new job opportunity: Company culture', 'Most important aspect of new job opportunity: Company reputation', 'Most important aspect of new job opportunity: Building something that matters', 'Most important aspect of new job opportunity: Remote working', 'Most important aspect of new job opportunity: Flexible work options', 'How important is remote when evaluating new job opportunity?', 'Most annoying about job search: Finding time', \"Most annoying about job search: Finding job I'm qualified for\", 'Most annoying about job search: Finding interesting job', 'Most annoying about job search: Interesting companies rarely respond', 'Most annoying about job search: Writing and updating CV', 'Most annoying about job search: Taking time off work to interview', 'Most annoying about job search: The Interview', 'How often contacted by recruiters', 'Perception of recruiter contact', 'Perception of contact form: Email', 'Perception of contact form: LinkedIn', 'Perception of contact form: Xing', 'Perception of contact form: Phone', 'Perception of contact form: Stack Overflow Careers', 'Perception of contact form: Twitter', 'Perception of contact form: Facebook', 'Appealing message traits: Message is personalized', 'Appealing message traits: Code or projects mentioned', 'Appealing message traits: Stack Overflow activity mentioned', 'Appealing message traits: Team described', 'Appealing message traits: Company culture described', 'Appealing message traits: Salary information', 'Appealing message traits: Benefits & Perks', 'Appealing message traits: Stack Overflow Company Page', 'Most urgent info about job opportunity: Salary', 'Most urgent info about job opportunity: Benefits', 'Most urgent info about job opportunity: Company name', 'Most urgent info about job opportunity: Tech stack', 'Most urgent info about job opportunity: Office location', 'Most urgent info about job opportunity: Job title', 'Most urgent info about job opportunity: Colleagues', 'Most urgent info about job opportunity: Product details', 'Who do you want to communicate with about a new job opportunity: Headhunter', 'Who do you want to communicate with about a new job opportunity: In-house recruiter', 'Who do you want to communicate with about a new job opportunity: In-house tech recruiter', 'Who do you want to communicate with about a new job opportunity: Manager', 'Who do you want to communicate with about a new job opportunity: Developer', 'How can companies improve interview process: More live code', 'How can companies improve interview process: Flexible interview schedule', 'How can companies improve interview process: Remote interviews', 'How can companies improve interview process: Introduce me to boss', 'How can companies improve interview process: Introduce me to team', 'How can companies improve interview process: Gimme coffee', 'How can companies improve interview process: Show me workplace', 'How can companies improve interview process: Fewer brainteasers', 'How can companies improve interview process: Better preparation', 'Why try Stack Overflow Careers: No spam', 'Why try Stack Overflow Careers: Jobs site for programmers', 'Why try Stack Overflow Careers: Selection of revelant jobs', 'Why try Stack Overflow Careers: Showcase Stack Overflow activity', 'Why try Stack Overflow Careers: Jobs are on Stack Overflow', 'Why try Stack Overflow Careers: Other', 'How many caffeinated beverages per day?', 'How many hours programming as hobby per week?', 'How frequently land on or read Stack Overflow', 'Preferred text editor', 'Preferred text editor: write-in', 'Prefered IDE theme', 'Source control used: Git', 'Source control used: Mercurial', 'Source control used: SVN', 'Source control used: CVS', 'Source control used: Perforce', 'Source control used: TFS', 'Source control used: DCVS', 'Source control used: Bitkeeper', 'Source control used: Legacy / Custom', \"Source control used: I don't use source control\", 'Source control used: write-in', 'Prefered Source Control', 'Prefered Source Control: write-in', 'Why use Stack Overflow: Help for job', 'Why use Stack Overflow: To give help', \"Why use Stack Overflow: Can't do job without it\", 'Why use Stack Overflow: Maintain online presence', 'Why use Stack Overflow: Demonstrate expertise', 'Why use Stack Overflow: Communicate with others', 'Why use Stack Overflow: Receive help on personal projects', 'Why use Stack Overflow: Love to learn', \"Why use Stack Overflow: I don't use Stack Overflow\", \"How often are Stack Overflow's answers helpful\", 'Why answer: Help a programmer in need', 'Why answer: Help future programmers', 'Why answer: Demonstrate expertise', 'Why answer: Self promotion', 'Why answer: Sense of responsibility to developers', 'Why answer: No idea', \"Why answer: I don't answer and I don't want to\", \"Why answer: I don't answer but I want to\"]\n"
     ]
    },
    {
     "name": "stderr",
     "output_type": "stream",
     "text": [
      "/Library/Python/3.7/site-packages/IPython/core/interactiveshell.py:3063: DtypeWarning: Columns (5,108,121,196,197,198) have mixed types.Specify dtype option on import or set low_memory=False.\n",
      "  interactivity=interactivity, compiler=compiler, result=result)\n"
     ]
    }
   ],
   "source": [
    "df15 = pd.read_csv('./stack_overflow_2015.csv', encoding = \"ISO-8859-1\")\n",
    "df15.head()\n",
    "first_row = list(df15.iloc[0])\n",
    "df15.columns = first_row\n",
    "cols = list(df15.columns)\n",
    "print(cols)\n",
    "\n",
    "df15.drop([0], inplace = True)\n",
    "df15 = df15.reset_index()"
   ]
  },
  {
   "cell_type": "code",
   "execution_count": 6,
   "metadata": {},
   "outputs": [
    {
     "name": "stdout",
     "output_type": "stream",
     "text": [
      "['Unnamed: 0', 'collector', 'country', 'un_subregion', 'so_region', 'age_range', 'age_midpoint', 'gender', 'self_identification', 'occupation', 'occupation_group', 'experience_range', 'experience_midpoint', 'salary_range', 'salary_midpoint', 'big_mac_index', 'tech_do', 'tech_want', 'aliens', 'programming_ability', 'employment_status', 'industry', 'company_size_range', 'team_size_range', 'women_on_team', 'remote', 'job_satisfaction', 'job_discovery', 'dev_environment', 'commit_frequency', 'hobby', 'dogs_vs_cats', 'desktop_os', 'unit_testing', 'rep_range', 'visit_frequency', 'why_learn_new_tech', 'education', 'open_to_new_job', 'new_job_value', 'job_search_annoyance', 'interview_likelihood', 'how_to_improve_interview_process', 'star_wars_vs_star_trek', 'agree_tech', 'agree_notice', 'agree_problemsolving', 'agree_diversity', 'agree_adblocker', 'agree_alcohol', 'agree_loveboss', 'agree_nightcode', 'agree_legacy', 'agree_mars', 'important_variety', 'important_control', 'important_sameend', 'important_newtech', 'important_buildnew', 'important_buildexisting', 'important_promotion', 'important_companymission', 'important_wfh', 'important_ownoffice', 'developer_challenges', 'why_stack_overflow']\n"
     ]
    }
   ],
   "source": [
    "df16 = pd.read_csv('./stack_overflow_2016.csv', encoding = \"ISO-8859-1\")\n",
    "cols = list(df16.columns)\n",
    "print(cols)"
   ]
  },
  {
   "cell_type": "code",
   "execution_count": 7,
   "metadata": {
    "scrolled": true
   },
   "outputs": [
    {
     "name": "stdout",
     "output_type": "stream",
     "text": [
      "['Respondent', 'Professional', 'ProgramHobby', 'Country', 'University', 'EmploymentStatus', 'FormalEducation', 'MajorUndergrad', 'HomeRemote', 'CompanySize', 'CompanyType', 'YearsProgram', 'YearsCodedJob', 'YearsCodedJobPast', 'DeveloperType', 'WebDeveloperType', 'MobileDeveloperType', 'NonDeveloperType', 'CareerSatisfaction', 'JobSatisfaction', 'ExCoderReturn', 'ExCoderNotForMe', 'ExCoderBalance', 'ExCoder10Years', 'ExCoderBelonged', 'ExCoderSkills', 'ExCoderWillNotCode', 'ExCoderActive', 'PronounceGIF', 'ProblemSolving', 'BuildingThings', 'LearningNewTech', 'BoringDetails', 'JobSecurity', 'DiversityImportant', 'AnnoyingUI', 'FriendsDevelopers', 'RightWrongWay', 'UnderstandComputers', 'SeriousWork', 'InvestTimeTools', 'WorkPayCare', 'KinshipDevelopers', 'ChallengeMyself', 'CompetePeers', 'ChangeWorld', 'JobSeekingStatus', 'HoursPerWeek', 'LastNewJob', 'AssessJobIndustry', 'AssessJobRole', 'AssessJobExp', 'AssessJobDept', 'AssessJobTech', 'AssessJobProjects', 'AssessJobCompensation', 'AssessJobOffice', 'AssessJobCommute', 'AssessJobRemote', 'AssessJobLeaders', 'AssessJobProfDevel', 'AssessJobDiversity', 'AssessJobProduct', 'AssessJobFinances', 'ImportantBenefits', 'ClickyKeys', 'JobProfile', 'ResumePrompted', 'LearnedHiring', 'ImportantHiringAlgorithms', 'ImportantHiringTechExp', 'ImportantHiringCommunication', 'ImportantHiringOpenSource', 'ImportantHiringPMExp', 'ImportantHiringCompanies', 'ImportantHiringTitles', 'ImportantHiringEducation', 'ImportantHiringRep', 'ImportantHiringGettingThingsDone', 'Currency', 'Overpaid', 'TabsSpaces', 'EducationImportant', 'EducationTypes', 'SelfTaughtTypes', 'TimeAfterBootcamp', 'CousinEducation', 'WorkStart', 'HaveWorkedLanguage', 'WantWorkLanguage', 'HaveWorkedFramework', 'WantWorkFramework', 'HaveWorkedDatabase', 'WantWorkDatabase', 'HaveWorkedPlatform', 'WantWorkPlatform', 'IDE', 'AuditoryEnvironment', 'Methodology', 'VersionControl', 'CheckInCode', 'ShipIt', 'OtherPeoplesCode', 'ProjectManagement', 'EnjoyDebugging', 'InTheZone', 'DifficultCommunication', 'CollaborateRemote', 'MetricAssess', 'EquipmentSatisfiedMonitors', 'EquipmentSatisfiedCPU', 'EquipmentSatisfiedRAM', 'EquipmentSatisfiedStorage', 'EquipmentSatisfiedRW', 'InfluenceInternet', 'InfluenceWorkstation', 'InfluenceHardware', 'InfluenceServers', 'InfluenceTechStack', 'InfluenceDeptTech', 'InfluenceVizTools', 'InfluenceDatabase', 'InfluenceCloud', 'InfluenceConsultants', 'InfluenceRecruitment', 'InfluenceCommunication', 'StackOverflowDescribes', 'StackOverflowSatisfaction', 'StackOverflowDevices', 'StackOverflowFoundAnswer', 'StackOverflowCopiedCode', 'StackOverflowJobListing', 'StackOverflowCompanyPage', 'StackOverflowJobSearch', 'StackOverflowNewQuestion', 'StackOverflowAnswer', 'StackOverflowMetaChat', 'StackOverflowAdsRelevant', 'StackOverflowAdsDistracting', 'StackOverflowModeration', 'StackOverflowCommunity', 'StackOverflowHelpful', 'StackOverflowBetter', 'StackOverflowWhatDo', 'StackOverflowMakeMoney', 'Gender', 'HighestEducationParents', 'Race', 'SurveyLong', 'QuestionsInteresting', 'QuestionsConfusing', 'InterestedAnswers', 'Salary', 'ExpectedSalary']\n"
     ]
    }
   ],
   "source": [
    "df17 = pd.read_csv('./stack_overflow_2017.csv', encoding = \"ISO-8859-1\")\n",
    "cols = list(df17.columns)\n",
    "print(cols)\n",
    "#df17['Professional']"
   ]
  },
  {
   "cell_type": "code",
   "execution_count": 8,
   "metadata": {},
   "outputs": [
    {
     "name": "stdout",
     "output_type": "stream",
     "text": [
      "['Respondent', 'Hobby', 'OpenSource', 'Country', 'Student', 'Employment', 'FormalEducation', 'UndergradMajor', 'CompanySize', 'DevType', 'YearsCoding', 'YearsCodingProf', 'JobSatisfaction', 'CareerSatisfaction', 'HopeFiveYears', 'JobSearchStatus', 'LastNewJob', 'AssessJob1', 'AssessJob2', 'AssessJob3', 'AssessJob4', 'AssessJob5', 'AssessJob6', 'AssessJob7', 'AssessJob8', 'AssessJob9', 'AssessJob10', 'AssessBenefits1', 'AssessBenefits2', 'AssessBenefits3', 'AssessBenefits4', 'AssessBenefits5', 'AssessBenefits6', 'AssessBenefits7', 'AssessBenefits8', 'AssessBenefits9', 'AssessBenefits10', 'AssessBenefits11', 'JobContactPriorities1', 'JobContactPriorities2', 'JobContactPriorities3', 'JobContactPriorities4', 'JobContactPriorities5', 'JobEmailPriorities1', 'JobEmailPriorities2', 'JobEmailPriorities3', 'JobEmailPriorities4', 'JobEmailPriorities5', 'JobEmailPriorities6', 'JobEmailPriorities7', 'UpdateCV', 'Currency', 'Salary', 'SalaryType', 'ConvertedSalary', 'CurrencySymbol', 'CommunicationTools', 'TimeFullyProductive', 'EducationTypes', 'SelfTaughtTypes', 'TimeAfterBootcamp', 'HackathonReasons', 'AgreeDisagree1', 'AgreeDisagree2', 'AgreeDisagree3', 'LanguageWorkedWith', 'LanguageDesireNextYear', 'DatabaseWorkedWith', 'DatabaseDesireNextYear', 'PlatformWorkedWith', 'PlatformDesireNextYear', 'FrameworkWorkedWith', 'FrameworkDesireNextYear', 'IDE', 'OperatingSystem', 'NumberMonitors', 'Methodology', 'VersionControl', 'CheckInCode', 'AdBlocker', 'AdBlockerDisable', 'AdBlockerReasons', 'AdsAgreeDisagree1', 'AdsAgreeDisagree2', 'AdsAgreeDisagree3', 'AdsActions', 'AdsPriorities1', 'AdsPriorities2', 'AdsPriorities3', 'AdsPriorities4', 'AdsPriorities5', 'AdsPriorities6', 'AdsPriorities7', 'AIDangerous', 'AIInteresting', 'AIResponsible', 'AIFuture', 'EthicsChoice', 'EthicsReport', 'EthicsResponsible', 'EthicalImplications', 'StackOverflowRecommend', 'StackOverflowVisit', 'StackOverflowHasAccount', 'StackOverflowParticipate', 'StackOverflowJobs', 'StackOverflowDevStory', 'StackOverflowJobsRecommend', 'StackOverflowConsiderMember', 'HypotheticalTools1', 'HypotheticalTools2', 'HypotheticalTools3', 'HypotheticalTools4', 'HypotheticalTools5', 'WakeTime', 'HoursComputer', 'HoursOutside', 'SkipMeals', 'ErgonomicDevices', 'Exercise', 'Gender', 'SexualOrientation', 'EducationParents', 'RaceEthnicity', 'Age', 'Dependents', 'MilitaryUS', 'SurveyTooLong', 'SurveyEasy']\n"
     ]
    },
    {
     "name": "stderr",
     "output_type": "stream",
     "text": [
      "/Library/Python/3.7/site-packages/IPython/core/interactiveshell.py:3063: DtypeWarning: Columns (8,12,13,14,15,16,50,51,52,53,55,56,57,58,59,60,61,62,63,64,65,66,67,68,69,70,71,72,73,74,75,76,77,78,79,80,81,82,83,84,85,93,94,95,96,97,98,99,100,101,102,103,104,105,106,107,108,109,110,111,112,113,114,115,116,117,118,119,120,121,122,123,124,125,126,127,128) have mixed types.Specify dtype option on import or set low_memory=False.\n",
      "  interactivity=interactivity, compiler=compiler, result=result)\n"
     ]
    }
   ],
   "source": [
    "df18 = pd.read_csv('./stack_overflow_2018.csv', encoding = \"ISO-8859-1\")\n",
    "cols = list(df18.columns)\n",
    "print(cols)"
   ]
  },
  {
   "cell_type": "code",
   "execution_count": 9,
   "metadata": {},
   "outputs": [
    {
     "name": "stdout",
     "output_type": "stream",
     "text": [
      "['Respondent', 'MainBranch', 'Hobbyist', 'OpenSourcer', 'OpenSource', 'Employment', 'Country', 'Student', 'EdLevel', 'UndergradMajor', 'EduOther', 'OrgSize', 'DevType', 'YearsCode', 'Age1stCode', 'YearsCodePro', 'CareerSat', 'JobSat', 'MgrIdiot', 'MgrMoney', 'MgrWant', 'JobSeek', 'LastHireDate', 'LastInt', 'FizzBuzz', 'JobFactors', 'ResumeUpdate', 'CurrencySymbol', 'CurrencyDesc', 'CompTotal', 'CompFreq', 'ConvertedComp', 'WorkWeekHrs', 'WorkPlan', 'WorkChallenge', 'WorkRemote', 'WorkLoc', 'ImpSyn', 'CodeRev', 'CodeRevHrs', 'UnitTests', 'PurchaseHow', 'PurchaseWhat', 'LanguageWorkedWith', 'LanguageDesireNextYear', 'DatabaseWorkedWith', 'DatabaseDesireNextYear', 'PlatformWorkedWith', 'PlatformDesireNextYear', 'WebFrameWorkedWith', 'WebFrameDesireNextYear', 'MiscTechWorkedWith', 'MiscTechDesireNextYear', 'DevEnviron', 'OpSys', 'Containers', 'BlockchainOrg', 'BlockchainIs', 'BetterLife', 'ITperson', 'OffOn', 'SocialMedia', 'Extraversion', 'ScreenName', 'SOVisit1st', 'SOVisitFreq', 'SOVisitTo', 'SOFindAnswer', 'SOTimeSaved', 'SOHowMuchTime', 'SOAccount', 'SOPartFreq', 'SOJobs', 'EntTeams', 'SOComm', 'WelcomeChange', 'SONewContent', 'Age', 'Gender', 'Trans', 'Sexuality', 'Ethnicity', 'Dependents', 'SurveyLength', 'SurveyEase']\n"
     ]
    }
   ],
   "source": [
    "df19 = pd.read_csv('./stack_overflow_2019.csv', encoding = \"ISO-8859-1\")\n",
    "cols = list(df19.columns)\n",
    "print(cols)"
   ]
  },
  {
   "cell_type": "markdown",
   "metadata": {},
   "source": [
    "#### Visualisation 1: Finding the change pattern in the number of respondents for the survey\n",
    "\n",
    "We are finding here how the number of respondents has changed over the years of the survey. We have represented the data in 2 formats: Tabular and Graphical."
   ]
  },
  {
   "cell_type": "code",
   "execution_count": 10,
   "metadata": {},
   "outputs": [
    {
     "name": "stdout",
     "output_type": "stream",
     "text": [
      "     Row_Name  2011  2012  2013  2014   2015   2016   2017   2018   2019\n",
      "0  Population  2813  6243  9742  7643  26086  56030  51392  98855  88883\n"
     ]
    }
   ],
   "source": [
    "# Visualisation 1: Finding the change pattern in the number of respondents for the survey\n",
    "\n",
    "pop_col = pd.DataFrame({\"Row_Name\": \"Population\",\"2011\": [df11.shape[0]-1]})\n",
    "#print(pop_col)\n",
    "pop_col.insert(len(pop_col.columns), \"2012\", [df12.shape[0]-1])\n",
    "pop_col.insert(len(pop_col.columns), \"2013\", [df13.shape[0]-1])\n",
    "pop_col.insert(len(pop_col.columns), \"2014\", [df14.shape[0]-1])\n",
    "pop_col.insert(len(pop_col.columns), \"2015\", [df15.shape[0]])\n",
    "pop_col.insert(len(pop_col.columns), \"2016\", [df16.shape[0]])\n",
    "pop_col.insert(len(pop_col.columns), \"2017\", [df17.shape[0]])\n",
    "pop_col.insert(len(pop_col.columns), \"2018\", [df18.shape[0]])\n",
    "pop_col.insert(len(pop_col.columns), \"2019\", [df19.shape[0]])\n",
    "print(pop_col)"
   ]
  },
  {
   "cell_type": "code",
   "execution_count": 11,
   "metadata": {},
   "outputs": [
    {
     "data": {
      "image/png": "[encoded data removed]",
      "text/plain": [
       "<Figure size 432x288 with 1 Axes>"
      ]
     },
     "metadata": {
      "needs_background": "light"
     },
     "output_type": "display_data"
    }
   ],
   "source": [
    "X = list(pop_col.columns)[1:]\n",
    "y = list(pop_col.iloc[0])[1:]\n",
    "plt.bar(X, y);\n",
    "plt.title('Number of respondents for StackOverflow Survey');"
   ]
  },
  {
   "cell_type": "markdown",
   "metadata": {},
   "source": [
    "#### Visualisation 2: Finding how salary has changed across various regions over the last 10 years\n",
    "\n",
    "Notes:\n",
    "1. Years 2018 and 2019 have currency, salary, salary type and converted salary. Hence, we are considering only converted salary.\n",
    "2. Years 2015 and 2016 have provided salary range and salary midpoint. So, it is easier to consider salary midpoint as an average salary mark.\n",
    "3. Years 2011-2014 have provided salary range in the salary field. In order to maintain consistency, we need to convert the range to salary midpoint.\n",
    "4. All the nan values in salary are dropped.\n",
    "5. Values like 'Student / Unemployed', 'Rather not say' are also dropped.\n",
    "6. 2018 already has column names called 'Salary'. But, since we are considering only converted salary, we need to drop the actual 'Salary' column, before renaming."
   ]
  },
  {
   "cell_type": "markdown",
   "metadata": {},
   "source": [
    "#### Pre-requisite Step: Cleaning up the data"
   ]
  },
  {
   "cell_type": "code",
   "execution_count": 12,
   "metadata": {},
   "outputs": [],
   "source": [
    "# Visualisation 2: Finding how salary has changed across various regions over the last 10 years\n",
    "\n",
    "# Data Cleanup\n",
    "\n",
    "# Creating a common column name for all dataframes' salary fields\n",
    "salary_col_name = 'Salary'\n",
    "dflist = [df11, df12, df13, df14]\n",
    "for i, s in enumerate(dflist):\n",
    "    dflist[i] = dflist[i].rename(columns={'Including bonus, what is your annual compensation in USD?': salary_col_name})\n",
    "df15 = df15.rename(columns={'Compensation: midpoint': salary_col_name})\n",
    "df16 = df16.rename(columns={'salary_midpoint': salary_col_name})\n",
    "df17 = df17.rename(columns={'Salary': salary_col_name})\n",
    "df18 = df18.drop(salary_col_name, axis=1)\n",
    "df18 = df18.rename(columns={'ConvertedSalary': salary_col_name})\n",
    "df19 = df19.rename(columns={'ConvertedComp': salary_col_name})"
   ]
  },
  {
   "cell_type": "code",
   "execution_count": 13,
   "metadata": {},
   "outputs": [],
   "source": [
    "# Data Cleanup\n",
    "\n",
    "# Creating a common column name for all dataframes' country fields\n",
    "country_col_name = 'Country'\n",
    "dflist[0] = dflist[0].rename(columns={'What Country or Region do you live in?': country_col_name})\n",
    "dflist[1] = dflist[1].rename(columns={'What Country or Region do you live in?': country_col_name})\n",
    "dflist[2] = dflist[2].rename(columns={'What Country or Region do you live in?': country_col_name})\n",
    "dflist[3] = dflist[3].rename(columns={'What Country do you live in?': country_col_name})\n",
    "df15 = df15.rename(columns={'Country': country_col_name})\n",
    "df16 = df16.rename(columns={'country': country_col_name})\n",
    "df17 = df17.rename(columns={'Country': country_col_name})\n",
    "df18 = df18.rename(columns={'Country': country_col_name})\n",
    "df19 = df19.rename(columns={'Country': country_col_name})"
   ]
  },
  {
   "cell_type": "code",
   "execution_count": 14,
   "metadata": {},
   "outputs": [],
   "source": [
    "# Transforming salary ranges to salary midpoints\n",
    "\n",
    "def transformRangeToMidpoint(val):\n",
    "    valStr = str(val)\n",
    "    if '-' in valStr:\n",
    "        substr = valStr.split('-')\n",
    "        substr[0]=substr[0].strip().strip('$').replace(',','')\n",
    "        substr[1]=substr[1].strip().strip('$').replace(',','')\n",
    "        mid = (int(substr[0]) + int(substr[1]))/2\n",
    "        val = mid\n",
    "    if valStr == '<$20,000':\n",
    "        val = 10000\n",
    "    if valStr == '>$140,000':\n",
    "        val = 140000\n",
    "    return val\n",
    "\n",
    "for i, s in enumerate(dflist):\n",
    "    dflist[i][salary_col_name] = dflist[i][salary_col_name].apply(transformRangeToMidpoint)"
   ]
  },
  {
   "cell_type": "code",
   "execution_count": 15,
   "metadata": {},
   "outputs": [],
   "source": [
    "# Cleaning up the salaries - removing dirty ones and making salaries numeric\n",
    "\n",
    "def cleanupSalaries(df_in, drop_first=True):\n",
    "    df_in = df_in.dropna(subset=[salary_col_name])\n",
    "    if drop_first:\n",
    "        df_in = df_in.drop([0])\n",
    "    df_in = df_in.drop(df_in[df_in[salary_col_name]=='Student / Unemployed'].index)\n",
    "    df_in = df_in.drop(df_in[df_in[salary_col_name]=='Rather not say'].index)\n",
    "    df_in = df_in.drop(df_in[df_in[salary_col_name]=='Unemployed'].index)\n",
    "    df_in[salary_col_name] = pd.to_numeric(df_in[salary_col_name])\n",
    "    return df_in"
   ]
  },
  {
   "cell_type": "code",
   "execution_count": 16,
   "metadata": {},
   "outputs": [],
   "source": [
    "# Setting threshold for number of participants in a country\n",
    "\n",
    "threshold = 100\n",
    "def dropCountries(country_names, df_tot):\n",
    "    val_count_df = dict(df_tot[country_col_name].value_counts())\n",
    "    if val_count_df[country_names] > threshold:\n",
    "        return False\n",
    "    else:\n",
    "        return True\n",
    "\n",
    "def filterCountries(df_countries, df_tot):\n",
    "    dict_countries = dict(df_countries)\n",
    "    for k in list(dict_countries.keys()):\n",
    "        if dropCountries(k, df_tot):\n",
    "            del dict_countries[k]\n",
    "    #df_countries = pd.DataFrame.from_dict(dict_countries.items())\n",
    "    df_countries = pd.DataFrame(list(dict_countries.items()), columns=[country_col_name, salary_col_name])\n",
    "    df_countries = df_countries.groupby([country_col_name])[salary_col_name].mean().sort_values(ascending=False)\n",
    "    return df_countries"
   ]
  },
  {
   "cell_type": "code",
   "execution_count": 17,
   "metadata": {},
   "outputs": [],
   "source": [
    "# Grouping top countries based on salaries in descending order\n",
    "\n",
    "def findtopcountries(df_in):\n",
    "    df_grouped = df_in.groupby([country_col_name])[salary_col_name].mean().sort_values(ascending=False)\n",
    "    df_in = filterCountries(df_grouped, df_in)\n",
    "    return df_in"
   ]
  },
  {
   "cell_type": "code",
   "execution_count": 18,
   "metadata": {},
   "outputs": [],
   "source": [
    "# Finding 'n' top countries\n",
    "def findtopncountries(df_in, n):\n",
    "    return df_in[:n]"
   ]
  },
  {
   "cell_type": "code",
   "execution_count": 19,
   "metadata": {},
   "outputs": [],
   "source": [
    "# Finding countries who feature frequently in top 3\n",
    "frequent_countries = dict()\n",
    "def findFrequentCountries(df_countries):\n",
    "    dict_countries = dict(df_countries)\n",
    "    for k in dict_countries:\n",
    "        if k not in frequent_countries:\n",
    "            frequent_countries[k] = 1\n",
    "        else:\n",
    "            frequent_countries[k] += 1\n",
    "    return"
   ]
  },
  {
   "cell_type": "markdown",
   "metadata": {},
   "source": [
    "#### Data Visualization: 2011"
   ]
  },
  {
   "cell_type": "code",
   "execution_count": 20,
   "metadata": {},
   "outputs": [
    {
     "name": "stdout",
     "output_type": "stream",
     "text": [
      "United States of America    838\n",
      "Other Europe                331\n",
      "United Kingdom              249\n",
      "Canada                      119\n",
      "Australia                    91\n",
      "South America                74\n",
      "India                        69\n",
      "Germany                      67\n",
      "Other Asia                   53\n",
      "France                       49\n",
      "Netherlands                  44\n",
      "Middle East                  42\n",
      "Russia                       29\n",
      "Africa                       26\n",
      "Italy                        25\n",
      "Australasia                  19\n",
      "Mexico                       15\n",
      "North America (Other)         6\n",
      "Central America               4\n",
      "Name: Country, dtype: int64\n"
     ]
    },
    {
     "data": {
      "image/png": "[encoded data removed]",
      "text/plain": [
       "<Figure size 432x288 with 1 Axes>"
      ]
     },
     "metadata": {
      "needs_background": "light"
     },
     "output_type": "display_data"
    }
   ],
   "source": [
    "# Finding top 3 regions - salary-wise - for 2011\n",
    "df11_sal = cleanupSalaries(dflist[0])\n",
    "df11_sal_group = findtopcountries(df11_sal)\n",
    "df11_sal_plot = findtopncountries(df11_sal_group, 3)\n",
    "findFrequentCountries(df11_sal_plot)\n",
    "df11_sal_plot.plot(kind='barh')\n",
    "print(df11_sal[country_col_name].value_counts())"
   ]
  },
  {
   "cell_type": "markdown",
   "metadata": {},
   "source": [
    "#### Data Visualization: 2012"
   ]
  },
  {
   "cell_type": "code",
   "execution_count": 21,
   "metadata": {},
   "outputs": [
    {
     "name": "stdout",
     "output_type": "stream",
     "text": [
      "United States of America    1249\n",
      "Other Europe                 639\n",
      "United Kingdom               368\n",
      "India                        243\n",
      "Canada                       220\n",
      "Germany                      130\n",
      "Australia                    121\n",
      "South America                117\n",
      "Other Asia                   107\n",
      "Russia                       100\n",
      "France                        85\n",
      "Netherlands                   83\n",
      "Italy                         67\n",
      "Australasia                   65\n",
      "Middle East                   64\n",
      "Africa                        43\n",
      "Mexico                        15\n",
      "North America (Other)         12\n",
      "Central America                8\n",
      "Bangladesh                     4\n",
      "Name: Country, dtype: int64\n"
     ]
    },
    {
     "data": {
      "image/png": "[encoded data removed]",
      "text/plain": [
       "<Figure size 432x288 with 1 Axes>"
      ]
     },
     "metadata": {
      "needs_background": "light"
     },
     "output_type": "display_data"
    }
   ],
   "source": [
    "# Finding top 3 regions - salary-wise - for 2012\n",
    "\n",
    "df12_sal = cleanupSalaries(dflist[1])\n",
    "df12_sal_group = findtopcountries(df12_sal)\n",
    "df12_sal_plot = findtopncountries(df12_sal_group, 3)\n",
    "df12_sal_plot.plot(kind='barh')\n",
    "findFrequentCountries(df12_sal_plot)\n",
    "print(df12_sal[country_col_name].value_counts())"
   ]
  },
  {
   "cell_type": "code",
   "execution_count": 22,
   "metadata": {},
   "outputs": [
    {
     "name": "stdout",
     "output_type": "stream",
     "text": [
      "United States of America    2078\n",
      "Other Europe                 786\n",
      "United Kingdom               508\n",
      "India                        320\n",
      "Canada                       294\n",
      "Germany                      263\n",
      "Other Asia                   164\n",
      "France                       135\n",
      "Australia                    133\n",
      "Russia                       130\n",
      "South America                126\n",
      "Netherlands                   99\n",
      "Middle East                   90\n",
      "Italy                         75\n",
      "Australasia                   63\n",
      "Africa                        49\n",
      "North America (Other)         15\n",
      "Mexico                        14\n",
      "Bangladesh                    11\n",
      "Central America                7\n",
      "Name: Country, dtype: int64\n"
     ]
    },
    {
     "data": {
      "image/png": "[encoded data removed]",
      "text/plain": [
       "<Figure size 432x288 with 1 Axes>"
      ]
     },
     "metadata": {
      "needs_background": "light"
     },
     "output_type": "display_data"
    }
   ],
   "source": [
    "# Finding top 3 regions - salary-wise - for 2013\n",
    "\n",
    "df13_sal = cleanupSalaries(dflist[2])\n",
    "df13_sal_group = findtopcountries(df13_sal)\n",
    "df13_sal_plot = findtopncountries(df13_sal_group, 3)\n",
    "df13_sal_plot.plot(kind='barh')\n",
    "findFrequentCountries(df13_sal_plot)\n",
    "print(df13_sal[country_col_name].value_counts())"
   ]
  },
  {
   "cell_type": "code",
   "execution_count": 23,
   "metadata": {},
   "outputs": [
    {
     "name": "stdout",
     "output_type": "stream",
     "text": [
      "{'United States': 1466, 'United Kingdom': 490, 'India': 467, 'Germany': 247, 'Canada': 183, 'France': 132, 'Australia': 111, 'Russia': 100, 'Netherlands': 78, 'Brazil': 77, 'Spain': 74, 'Italy': 68, 'Poland': 63, 'Israel': 63, 'Switzerland': 55, 'Sweden': 54, 'Turkey': 43, 'Ukraine': 42, 'Denmark': 37, 'Austria': 36, 'Belgium': 34, 'New Zealand': 30, 'China': 30, 'Romania': 29, 'Ireland': 29, 'Norway': 26, 'South Africa': 23, 'Argentina': 22, 'Mexico': 22, 'Finland': 21, 'Bulgaria': 21, 'Singapore': 19, 'Pakistan': 19, 'Greece': 18, 'Lithuania': 18, 'Sri Lanka': 17, 'Czech Republic': 17, 'Bangladesh': 15, 'Portugal': 15, 'Hungary': 15, 'Egypt': 15, 'Iran': 14, 'Colombia': 14, 'Belarus': 13, 'Taiwan': 13, 'Slovenia': 11, 'Malaysia': 10, 'United Arab Emirates': 10, 'Japan': 10, 'Philippines': 9, 'Indonesia': 9, 'Peru': 9, 'Chile': 9, 'Latvia': 9, 'Croatia': 9, 'Estonia': 8, 'Algeria': 7, 'Macedonia [FYROM]': 7, 'Dominican Republic': 6, 'Vietnam': 6, 'Hong Kong': 6, 'Serbia': 6, 'Uruguay': 6, 'Thailand': 6, 'Armenia': 6, 'South Korea': 5, 'Lebanon': 5, 'Slovakia': 5, 'Georgia': 5, 'Other': 5, 'Kazakhstan': 5, 'Jordan': 4, 'Moldova': 4, 'Venezuela': 4, 'Morocco': 3, 'Puerto Rico': 3, 'Tunisia': 3, 'Malta': 2, 'Cyprus': 2, 'Nepal': 2, 'Bolivia': 2, 'Ecuador': 1, 'Iceland': 1, 'Cambodia': 1, 'El Salvador': 1, 'Kenya': 1, 'Ghana': 1, 'Myanmar [Burma]': 1, 'Costa Rica': 1, 'Saudi Arabia': 1, 'Bosnia and Herzegovina': 1}\n"
     ]
    },
    {
     "data": {
      "image/png": "[encoded data removed]",
      "text/plain": [
       "<Figure size 432x288 with 1 Axes>"
      ]
     },
     "metadata": {
      "needs_background": "light"
     },
     "output_type": "display_data"
    }
   ],
   "source": [
    "# Finding top 3 regions - salary-wise - for 2014\n",
    "\n",
    "df14_sal = cleanupSalaries(dflist[3])\n",
    "df14_sal_group = findtopcountries(df14_sal)\n",
    "df14_sal_plot = findtopncountries(df14_sal_group, 3)\n",
    "df14_sal_plot.plot(kind='barh')\n",
    "findFrequentCountries(df14_sal_plot)\n",
    "print(dict(df14_sal[country_col_name].value_counts()))"
   ]
  },
  {
   "cell_type": "code",
   "execution_count": 24,
   "metadata": {},
   "outputs": [
    {
     "name": "stdout",
     "output_type": "stream",
     "text": [
      "{'United States': 3258, 'United Kingdom': 1492, 'India': 1206, 'Germany': 1007, 'Canada': 541, 'France': 472, 'Australia': 420, 'Poland': 420, 'Spain': 390, 'Netherlands': 344, 'Russian Federation': 331, 'Sweden': 309, 'Italy': 269, 'Switzerland': 246, 'Brazil': 231, 'Denmark': 153, 'Austria': 142, 'Finland': 138, 'China': 136, 'Belgium': 130, 'Ukraine': 126, 'Turkey': 125, 'Czech Republic': 124, 'Iran': 124, 'Portugal': 115, 'Ireland {Republic}': 114, 'Romania': 108, 'Mexico': 105, 'Norway': 104, 'Israel': 100, 'Argentina': 98, 'New Zealand': 95, 'Hungary': 87, 'Greece': 85, 'South Africa': 79, 'Bulgaria': 62, 'Pakistan': 60, 'Indonesia': 54, 'Armenia': 51, 'Korea South': 44, 'Singapore': 43, 'Slovenia': 43, 'Egypt': 43, 'Serbia': 42, 'Malaysia': 42, 'Lithuania': 41, 'Belarus': 40, 'Latvia': 40, 'Philippines': 39, 'Japan': 38, 'Thailand': 36, 'Vietnam': 35, 'Bangladesh': 34, 'Chile': 33, 'Taiwan': 32, 'Sri Lanka': 32, 'Croatia': 32, 'Slovakia': 31, 'Uruguay': 30, 'Colombia': 30, 'United Arab Emirates': 25, 'Estonia': 23, 'Peru': 22, 'Venezuela': 19, 'Georgia': 19, 'Costa Rica': 18, 'Tunisia': 16, 'Afghanistan': 16, 'Saudi Arabia': 15, 'Nepal': 15, 'Macedonia': 14, 'Kazakhstan': 14, 'Bosnia Herzegovina': 13, 'Nigeria': 12, 'Kenya': 11, 'Malta': 10, 'Lebanon': 10, 'Guatemala': 9, 'Cyprus': 9, 'Moldova': 8, 'Morocco': 8, 'Dominican Republic': 8, 'Jordan': 7, 'Algeria': 7, 'Honduras': 6, 'Albania': 6, 'Myanmar, {Burma}': 6, 'Iceland': 5, 'Azerbaijan': 5, 'Paraguay': 5, 'Nicaragua': 5, 'Trinidad & Tobago': 4, 'Cambodia': 4, 'Panama': 4, 'Bahrain': 4, 'Uzbekistan': 4, 'Ethiopia': 3, 'Bolivia': 3, 'Ghana': 3, 'Ecuador': 3, 'Mongolia': 3, 'El Salvador': 3, 'Angola': 2, 'Gabon': 2, 'Cuba': 2, 'Kyrgyzstan': 2, 'Mauritius': 2, 'Kosovo': 2, 'Swaziland': 2, 'Turkmenistan': 2, 'Laos': 2, 'Luxembourg': 2, 'Congo {Democratic Rep}': 1, 'Sudan': 1, 'Togo': 1, 'Zimbabwe': 1, 'Brunei': 1, 'Cameroon': 1, 'San Marino': 1, 'Benin': 1, 'Qatar': 1, 'Uganda': 1, 'Namibia': 1, 'Madagascar': 1, 'Liechtenstein': 1, 'Solomon Islands': 1, 'Bhutan': 1, 'Tajikistan': 1, 'Oman': 1, 'Sierra Leone': 1, 'Syria': 1, 'Montenegro': 1, 'Botswana': 1, 'Tanzania': 1, 'Barbados': 1, 'Jamaica': 1, 'South Sudan': 1, 'Antigua & Deps': 1}\n"
     ]
    },
    {
     "data": {
      "image/png": "[encoded data removed]",
      "text/plain": [
       "<Figure size 432x288 with 1 Axes>"
      ]
     },
     "metadata": {
      "needs_background": "light"
     },
     "output_type": "display_data"
    }
   ],
   "source": [
    "df15_sal = cleanupSalaries(df15)\n",
    "df15_sal_group = findtopcountries(df15_sal)\n",
    "df15_sal_plot = findtopncountries(df15_sal_group, 3)\n",
    "df15_sal_plot.plot(kind='barh')\n",
    "findFrequentCountries(df15_sal_plot)\n",
    "print(dict(df15_sal[country_col_name].value_counts()))"
   ]
  },
  {
   "cell_type": "code",
   "execution_count": 25,
   "metadata": {},
   "outputs": [
    {
     "name": "stderr",
     "output_type": "stream",
     "text": [
      "/Library/Python/3.7/site-packages/pandas/core/ops/array_ops.py:253: FutureWarning: elementwise comparison failed; returning scalar instead, but in the future will perform elementwise comparison\n",
      "  res_values = method(rvalues)\n"
     ]
    },
    {
     "name": "stdout",
     "output_type": "stream",
     "text": [
      "{'United States': 10922, 'United Kingdom': 3577, 'India': 2884, 'Germany': 2694, 'Canada': 1531, 'Poland': 1338, 'France': 1160, 'Sweden': 1048, 'Russian Federation': 1015, 'Australia': 873, 'Netherlands': 869, 'Brazil': 846, 'Italy': 833, 'Spain': 807, 'Romania': 666, 'Ukraine': 624, 'Switzerland': 439, 'Denmark': 439, 'South Africa': 392, 'Belgium': 372, 'Mexico': 364, 'Ireland {Republic}': 339, 'Finland': 331, 'Portugal': 329, 'Turkey': 328, 'Austria': 317, 'Israel': 304, 'Argentina': 286, 'Greece': 286, 'Norway': 280, 'New Zealand': 273, 'Pakistan': 244, 'Czech Republic': 238, 'Iran': 231, 'China': 222, 'Bulgaria': 158, 'Hungary': 150, 'Korea South': 146, 'Philippines': 142, 'Singapore': 134, 'Japan': 127, 'Lithuania': 127, 'Slovenia': 126, 'Belarus': 125, 'Serbia': 122, 'Indonesia': 122, 'Bangladesh': 118, 'Vietnam': 108, 'Croatia': 101, 'Malaysia': 100, 'Sri Lanka': 88, 'Slovakia': 86, 'Chile': 82, 'Colombia': 80, 'Hong Kong': 74, 'Egypt': 71, 'Dominican Republic': 71, 'Estonia': 70, 'Latvia': 57, 'Thailand': 53, 'Taiwan': 52, 'United Arab Emirates': 46, 'Nepal': 45, 'Kenya': 45, 'Uruguay': 39, 'Peru': 39, 'Nigeria': 38, 'Venezuela': 36, 'Tunisia': 35, 'Bosnia Herzegovina': 35, 'Morocco': 34, 'Georgia': 30, 'Jordan': 30, 'Macedonia': 29, 'Lebanon': 29, 'Malta': 27, 'Kazakhstan': 27, 'Costa Rica': 26, 'Armenia': 26, 'Afghanistan': 23, 'Algeria': 22, 'Other (please specify)': 21, 'Saudi Arabia': 21, 'Luxembourg': 21, 'Cuba': 20, 'Albania': 20, 'Cyprus': 20, 'Moldova': 20, 'Ghana': 19, 'Azerbaijan': 18, 'Iceland': 18, 'Ecuador': 17, 'Guatemala': 16, 'Myanmar, {Burma}': 15, 'Paraguay': 15, 'Uzbekistan': 14, 'Bolivia': 13, 'Mongolia': 12, 'Syria': 11, 'Panama': 11, 'Cambodia': 10, 'Trinidad & Tobago': 10, 'Kosovo': 10, 'Jamaica': 9, 'Zimbabwe': 9, 'Kyrgyzstan': 8, 'El Salvador': 8, 'Bahrain': 7, 'Mauritius': 7, 'Palestine': 7, 'Ethiopia': 7, 'Uganda': 7, 'Qatar': 6, 'Honduras': 6, 'Andorra': 6, 'Cameroon': 6, 'Tanzania': 5, 'Sudan': 5, 'Bahamas': 5, 'Angola': 4, 'Iraq': 4, 'Madagascar': 4, 'Nicaragua': 4, 'Maldives': 3, 'Fiji': 3, 'Guyana': 3, 'Puerto Rico': 3, 'Laos': 2, 'Micronesia': 2, 'Suriname': 2, 'Kuwait': 2, 'Ivory Coast': 2, 'Bhutan': 1, 'Somalia': 1, 'Djibouti': 1, 'Korea North': 1, 'Gabon': 1, 'Burkina': 1, 'Liechtenstein': 1, 'Mozambique': 1, 'East Timor': 1, 'Bermuda': 1, 'Zambia': 1, 'Rwanda': 1, 'Haiti': 1, 'Belize': 1, 'Malawi': 1, 'Monaco': 1, 'San Marino': 1, 'St Kitts & Nevis': 1, 'Benin': 1, 'Vatican City': 1, 'Mauritania': 1, 'Niger': 1, 'Tajikistan': 1, 'Barbados': 1, 'Botswana': 1, 'Dominica': 1, 'Yemen': 1, 'Namibia': 1, 'Oman': 1, 'Togo': 1}\n"
     ]
    },
    {
     "data": {
      "image/png": "[encoded data removed]",
      "text/plain": [
       "<Figure size 432x288 with 1 Axes>"
      ]
     },
     "metadata": {
      "needs_background": "light"
     },
     "output_type": "display_data"
    }
   ],
   "source": [
    "df16_sal = cleanupSalaries(df16, drop_first=False)\n",
    "df16_sal_group = findtopcountries(df16_sal)\n",
    "df16_sal_plot = findtopncountries(df16_sal_group, 3)\n",
    "df16_sal_plot.plot(kind='barh')\n",
    "findFrequentCountries(df16_sal_plot)\n",
    "print(dict(df16_sal[country_col_name].value_counts()))"
   ]
  },
  {
   "cell_type": "code",
   "execution_count": 26,
   "metadata": {},
   "outputs": [
    {
     "name": "stdout",
     "output_type": "stream",
     "text": [
      "{'United States': 3781, 'United Kingdom': 1386, 'Germany': 994, 'India': 821, 'Canada': 667, 'France': 477, 'Poland': 317, 'Spain': 278, 'Australia': 256, 'Brazil': 237, 'Netherlands': 216, 'Italy': 201, 'Russian Federation': 198, 'Sweden': 195, 'Israel': 151, 'Switzerland': 150, 'Austria': 132, 'Romania': 121, 'South Africa': 106, 'Mexico': 96, 'Ireland': 95, 'Belgium': 95, 'Slovenia': 91, 'Denmark': 90, 'Finland': 83, 'Hungary': 81, 'Norway': 79, 'Czech Republic': 77, 'Pakistan': 76, 'New Zealand': 73, 'Ukraine': 72, 'Portugal': 71, 'Turkey': 69, 'Bulgaria': 67, 'Greece': 60, 'Argentina': 58, 'Japan': 50, 'Serbia': 45, 'Lithuania': 44, 'China': 43, 'Iran': 42, 'Indonesia': 37, 'Malaysia': 34, 'Latvia': 30, 'Philippines': 30, 'Singapore': 26, 'Slovak Republic': 25, 'Estonia': 25, 'Croatia': 23, 'Nigeria': 23, 'Colombia': 23, 'South Korea': 22, 'United Arab Emirates': 18, 'Sri Lanka': 16, 'Belarus': 15, 'Lebanon': 13, 'Bangladesh': 13, 'Chile': 11, 'Venezuela': 11, 'Hong Kong': 11, 'Malta': 11, 'Uruguay': 10, 'Macedonia': 10, 'Vietnam': 9, 'Luxembourg': 9, 'Dominican Republic': 8, 'Albania': 8, 'Bosnia-Herzegovina': 7, 'Armenia': 7, 'Moldavia': 7, 'Panama': 7, 'I prefer not to say': 7, 'Ecuador': 7, 'Peru': 7, 'Costa Rica': 7, 'Egypt': 6, 'Jordan': 6, 'Nepal': 6, 'Paraguay': 6, 'Thailand': 5, 'Cyprus': 5, 'Georgia': 5, 'El Salvador': 4, 'Tunisia': 4, 'Bolivia': 4, 'Puerto Rico': 4, 'Myanmar': 4, 'Liechtenstein': 3, 'New Caledonia (French)': 3, 'Morocco': 3, 'Afghanistan': 3, 'Honduras': 2, 'Ghana': 2, 'Montenegro': 2, 'Guatemala': 2, 'Syria': 2, 'Taiwan': 2, 'Uzbekistan': 2, 'Zimbabwe': 1, 'Martinique (French)': 1, 'Seychelles': 1, 'Virgin Islands (USA)': 1, 'Kuwait': 1, 'Cuba': 1, 'Bahrain': 1, 'North Korea': 1, 'Mauritius': 1, 'Tanzania': 1, 'Anguilla': 1, 'Cayman Islands': 1, 'Yemen': 1, 'U.S. Minor Outlying Islands': 1, 'Kazakhstan': 1, 'Nicaragua': 1, 'Iceland': 1, 'Mozambique': 1, 'Suriname': 1, 'Madagascar': 1, 'Barbados': 1, 'Lesotho': 1, 'Jamaica': 1, 'Bermuda': 1, 'Saudi Arabia': 1, 'Iraq': 1, 'Trinidad and Tobago': 1, 'Kyrgyzstan': 1, 'Guam': 1, 'Uganda': 1, 'Mongolia': 1, 'Qatar': 1, 'Azerbaidjan': 1, 'Guinea': 1, 'Reunion (French)': 1, 'Zaire': 1, 'Botswana': 1, 'Cambodia': 1}\n"
     ]
    },
    {
     "data": {
      "image/png": "[encoded data removed]",
      "text/plain": [
       "<Figure size 432x288 with 1 Axes>"
      ]
     },
     "metadata": {
      "needs_background": "light"
     },
     "output_type": "display_data"
    }
   ],
   "source": [
    "df17_sal = cleanupSalaries(df17, drop_first=False)\n",
    "df17_sal_group = findtopcountries(df17_sal)\n",
    "df17_sal_plot = findtopncountries(df17_sal_group, 3)\n",
    "df17_sal_plot.plot(kind='barh')\n",
    "findFrequentCountries(df17_sal_plot)\n",
    "print(dict(df17_sal[country_col_name].value_counts()))"
   ]
  },
  {
   "cell_type": "code",
   "execution_count": 27,
   "metadata": {},
   "outputs": [
    {
     "name": "stdout",
     "output_type": "stream",
     "text": [
      "{'United States': 12941, 'India': 4091, 'United Kingdom': 3794, 'Germany': 3362, 'Canada': 1983, 'France': 1447, 'Russian Federation': 1209, 'Australia': 1180, 'Brazil': 1151, 'Netherlands': 1001, 'Spain': 980, 'Poland': 935, 'Italy': 748, 'Sweden': 678, 'Switzerland': 553, 'Israel': 442, 'Ukraine': 438, 'Austria': 393, 'Belgium': 383, 'Turkey': 381, 'Czech Republic': 366, 'South Africa': 359, 'Pakistan': 357, 'Denmark': 356, 'Romania': 348, 'Norway': 337, 'Mexico': 335, 'Ireland': 323, 'New Zealand': 311, 'Iran, Islamic Republic of...': 303, 'Finland': 300, 'Argentina': 288, 'Portugal': 275, 'China': 270, 'Greece': 236, 'Bangladesh': 228, 'Hungary': 216, 'Indonesia': 191, 'Colombia': 186, 'Bulgaria': 178, 'Japan': 171, 'Serbia': 159, 'Philippines': 148, 'Singapore': 147, 'Sri Lanka': 145, 'Nigeria': 133, 'Malaysia': 132, 'Lithuania': 127, 'Belarus': 123, 'Egypt': 120, 'Slovenia': 110, 'Croatia': 109, 'Slovakia': 105, 'Estonia': 102, 'Chile': 91, 'Hong Kong (S.A.R.)': 89, 'Viet Nam': 81, 'Latvia': 75, 'Nepal': 74, 'Taiwan': 68, 'Thailand': 67, 'United Arab Emirates': 61, 'South Korea': 57, 'Kenya': 57, 'Morocco': 53, 'Venezuela, Bolivarian Republic of...': 48, 'Kazakhstan': 47, 'Bosnia and Herzegovina': 46, 'Dominican Republic': 44, 'Saudi Arabia': 43, 'Other Country (Not Listed Above)': 42, 'Peru': 40, 'Armenia': 37, 'Lebanon': 37, 'Malta': 37, 'Uruguay': 36, 'Costa Rica': 36, 'Albania': 36, 'Tunisia': 35, 'Luxembourg': 32, 'Jordan': 30, 'Ecuador': 26, 'Algeria': 26, 'Republic of Moldova': 25, 'Cyprus': 22, 'Georgia': 22, 'Ghana': 21, 'El Salvador': 21, 'Azerbaijan': 21, 'The former Yugoslav Republic of Macedonia': 21, 'Uganda': 20, 'Iceland': 20, 'Cuba': 19, 'Ethiopia': 18, 'Paraguay': 17, 'Panama': 15, 'Zimbabwe': 14, 'Bolivia': 13, 'Guatemala': 13, 'Republic of Korea': 13, 'Uzbekistan': 13, 'Syrian Arab Republic': 13, 'Cambodia': 12, 'Mauritius': 12, 'United Republic of Tanzania': 10, 'Sudan': 10, 'Kuwait': 9, 'Trinidad and Tobago': 9, 'Nicaragua': 9, 'Cameroon': 9, 'Kyrgyzstan': 8, 'Oman': 7, 'Madagascar': 7, 'Afghanistan': 7, 'Iraq': 7, 'Montenegro': 6, 'Myanmar': 6, 'Mozambique': 6, 'Yemen': 6, 'Mongolia': 6, 'Honduras': 5, 'Maldives': 4, 'Somalia': 4, 'Bahrain': 4, 'Andorra': 4, 'Fiji': 4, 'Senegal': 3, 'Swaziland': 3, 'Jamaica': 3, 'Liechtenstein': 3, 'Qatar': 3, 'Rwanda': 3, 'Libyan Arab Jamahiriya': 3, 'Benin': 3, 'Democratic Republic of the Congo': 2, 'Bahamas': 2, 'Barbados': 2, 'Togo': 2, 'Bhutan': 2, 'Tajikistan': 2, 'Namibia': 2, 'Botswana': 2, 'Congo, Republic of the...': 1, \"CÃ´te d'Ivoire\": 1, 'Monaco': 1, 'Guyana': 1, 'Suriname': 1, 'Sierra Leone': 1, 'Marshall Islands': 1, 'Gambia': 1, 'Eritrea': 1, 'Lesotho': 1, 'Saint Lucia': 1, 'Turkmenistan': 1, 'Malawi': 1, 'Zambia': 1, 'Dominica': 1}\n"
     ]
    },
    {
     "data": {
      "image/png": "[encoded data removed]",
      "text/plain": [
       "<Figure size 432x288 with 1 Axes>"
      ]
     },
     "metadata": {
      "needs_background": "light"
     },
     "output_type": "display_data"
    }
   ],
   "source": [
    "df18_sal = cleanupSalaries(df18, drop_first=False)\n",
    "df18_sal_group = findtopcountries(df18_sal)\n",
    "df18_sal_plot = findtopncountries(df18_sal_group, 3)\n",
    "df18_sal_plot.plot(kind='barh')\n",
    "findFrequentCountries(df18_sal_plot)\n",
    "print(dict(df18_sal[country_col_name].value_counts()))"
   ]
  },
  {
   "cell_type": "code",
   "execution_count": 28,
   "metadata": {},
   "outputs": [
    {
     "name": "stdout",
     "output_type": "stream",
     "text": [
      "{'United States': 14981, 'United Kingdom': 4034, 'India': 3999, 'Germany': 3778, 'Canada': 2257, 'France': 1657, 'Brazil': 1400, 'Poland': 1321, 'Australia': 1247, 'Netherlands': 1198, 'Spain': 1198, 'Russian Federation': 1106, 'Italy': 948, 'Sweden': 907, 'Switzerland': 672, 'Israel': 579, 'Ukraine': 542, 'Austria': 505, 'Turkey': 503, 'Czech Republic': 483, 'Belgium': 464, 'Mexico': 463, 'Pakistan': 422, 'Denmark': 420, 'Iran': 420, 'South Africa': 418, 'Norway': 418, 'Romania': 415, 'Bulgaria': 403, 'Argentina': 392, 'Finland': 382, 'New Zealand': 357, 'Portugal': 356, 'Ireland': 343, 'Hungary': 329, 'Greece': 308, 'Japan': 260, 'Bangladesh': 250, 'China': 247, 'Serbia': 220, 'Indonesia': 212, 'Colombia': 210, 'Slovenia': 204, 'Nigeria': 199, 'Croatia': 168, 'Sri Lanka': 165, 'Lithuania': 161, 'Singapore': 156, 'Philippines': 152, 'Egypt': 151, 'Slovakia': 150, 'Chile': 144, 'Estonia': 141, 'Malaysia': 140, 'Belarus': 124, 'Hong Kong (S.A.R.)': 108, 'Taiwan': 108, 'Thailand': 103, 'Kenya': 100, 'Latvia': 98, 'Uruguay': 91, 'United Arab Emirates': 88, 'Viet Nam': 87, 'Nepal': 83, 'Peru': 81, 'South Korea': 70, 'Lebanon': 68, 'Dominican Republic': 68, 'Other Country (Not Listed Above)': 61, 'Bosnia and Herzegovina': 60, 'Ecuador': 56, 'Tunisia': 54, 'Costa Rica': 51, 'Albania': 50, 'Georgia': 49, 'Saudi Arabia': 49, 'El Salvador': 46, 'Armenia': 45, 'Luxembourg': 44, 'Malta': 44, 'Venezuela, Bolivarian Republic of...': 43, 'Guatemala': 43, 'Paraguay': 42, 'Algeria': 42, 'Morocco': 41, 'Kazakhstan': 38, 'Cyprus': 37, 'Jordan': 34, 'Uganda': 34, 'Ghana': 33, 'Republic of Moldova': 31, 'The former Yugoslav Republic of Macedonia': 31, 'Iceland': 27, 'Ethiopia': 25, 'Bolivia': 25, 'Azerbaijan': 24, 'Cameroon': 23, 'Nicaragua': 22, 'Panama': 22, 'Cuba': 18, 'United Republic of Tanzania': 17, 'Republic of Korea': 17, 'Myanmar': 16, 'Honduras': 15, 'Mauritius': 15, 'Zimbabwe': 15, 'Uzbekistan': 14, \"CÃ´te d'Ivoire\": 13, 'Afghanistan': 12, 'Sudan': 12, 'Kyrgyzstan': 12, 'Jamaica': 11, 'Mongolia': 10, 'Bahrain': 10, 'Iraq': 10, 'Senegal': 10, 'Montenegro': 9, 'Trinidad and Tobago': 9, 'Syrian Arab Republic': 8, 'Kuwait': 8, 'Cambodia': 8, 'Zambia': 8, 'Madagascar': 6, 'Qatar': 6, 'Yemen': 6, 'Maldives': 6, 'Rwanda': 5, 'Libyan Arab Jamahiriya': 4, 'Mozambique': 4, 'Swaziland': 4, 'Somalia': 4, 'Congo, Republic of the...': 3, 'Turkmenistan': 3, 'Botswana': 3, 'Tajikistan': 2, 'Fiji': 2, 'Haiti': 2, 'Andorra': 2, 'Monaco': 2, 'San Marino': 2, 'Burundi': 2, 'Seychelles': 1, 'Saint Vincent and the Grenadines': 1, 'Djibouti': 1, \"Lao People's Democratic Republic\": 1, 'Democratic Republic of the Congo': 1, 'Burkina Faso': 1, 'Malawi': 1, 'Guinea': 1, 'Liechtenstein': 1, 'Lesotho': 1, 'Timor-Leste': 1, \"Democratic People's Republic of Korea\": 1, 'Gabon': 1, 'Oman': 1, 'Mali': 1, 'Barbados': 1, 'Brunei Darussalam': 1, 'Angola': 1, 'Chad': 1, 'Togo': 1}\n"
     ]
    },
    {
     "data": {
      "image/png": "[encoded data removed]",
      "text/plain": [
       "<Figure size 432x288 with 1 Axes>"
      ]
     },
     "metadata": {
      "needs_background": "light"
     },
     "output_type": "display_data"
    }
   ],
   "source": [
    "df19_sal = cleanupSalaries(df19, drop_first=False)\n",
    "df19_sal_group = findtopcountries(df19_sal)\n",
    "df19_sal_plot = findtopncountries(df19_sal_group, 3)\n",
    "df19_sal_plot.plot(kind='barh')\n",
    "findFrequentCountries(df19_sal_plot)\n",
    "print(dict(df19_sal[country_col_name].value_counts()))"
   ]
  },
  {
   "cell_type": "markdown",
   "metadata": {},
   "source": [
    "#### Salary Trend for all regions for 2011-19"
   ]
  },
  {
   "cell_type": "code",
   "execution_count": 29,
   "metadata": {},
   "outputs": [
    {
     "data": {
      "image/png": "[encoded data removed]",
      "text/plain": [
       "<Figure size 432x288 with 1 Axes>"
      ]
     },
     "metadata": {
      "needs_background": "light"
     },
     "output_type": "display_data"
    }
   ],
   "source": [
    "# Accumulating all the data for the period\n",
    "\n",
    "plt.barh(*zip(*sorted(frequent_countries.items())));\n",
    "plt.xlabel('Number of times the country features in top 3');\n",
    "plt.title('Regions having the highest average salary for the period: 2011-2019');"
   ]
  },
  {
   "cell_type": "code",
   "execution_count": 30,
   "metadata": {},
   "outputs": [],
   "source": [
    "# Compose data\n",
    "def composeData(code):\n",
    "    data = [['2011', df11_sal_group[code]], ['2012', df12_sal_group[code]], ['2013',df13_sal_group[code]], ['2014',df14_sal_group[code]], ['2015',df15_sal_group[code]], ['2016',df16_sal_group[code]], ['2017',df17_sal_group[code]], ['2018',df18_sal_group[code]], ['2019',df19_sal_group[code]]]\n",
    "    return data"
   ]
  },
  {
   "cell_type": "code",
   "execution_count": 31,
   "metadata": {},
   "outputs": [
    {
     "data": {
      "image/png": "[encoded data removed]",
      "text/plain": [
       "<Figure size 432x288 with 1 Axes>"
      ]
     },
     "metadata": {
      "needs_background": "light"
     },
     "output_type": "display_data"
    }
   ],
   "source": [
    "# Variation for United States\n",
    "usa = 'United States of America'\n",
    "us = 'United States'\n",
    "data = [['2011', df11_sal_plot[usa]], ['2012', df12_sal_plot[usa]], ['2013',df13_sal_plot[usa]], ['2014',df14_sal_plot[us]], ['2015',df15_sal_plot[us]], ['2016',df16_sal_plot[us]], ['2017',df17_sal_plot[us]], ['2018',df18_sal_plot[us]], ['2019',df19_sal_plot[us]]]\n",
    "sal_var_us = pd.DataFrame(data, columns=['Year', 'Salary'])\n",
    "X = sal_var_us['Year'];\n",
    "Y = sal_var_us['Salary'];\n",
    "plot1 = plt.bar(X, Y)\n",
    "plt.ylabel('Average Annual Salary (in USD)');\n",
    "plt.title('Salary trend for USA during the period 2011-2019');"
   ]
  },
  {
   "cell_type": "code",
   "execution_count": 32,
   "metadata": {},
   "outputs": [
    {
     "data": {
      "image/png": "[encoded data removed]",
      "text/plain": [
       "<Figure size 432x288 with 1 Axes>"
      ]
     },
     "metadata": {
      "needs_background": "light"
     },
     "output_type": "display_data"
    }
   ],
   "source": [
    "plt.plot(X,Y);\n",
    "plt.ylabel('Average Annual Salary (in USD)');\n",
    "plt.title('Salary trend for USA during the period 2011-2019');"
   ]
  },
  {
   "cell_type": "code",
   "execution_count": 33,
   "metadata": {},
   "outputs": [
    {
     "data": {
      "image/png": "[encoded data removed]",
      "text/plain": [
       "<Figure size 432x288 with 1 Axes>"
      ]
     },
     "metadata": {
      "needs_background": "light"
     },
     "output_type": "display_data"
    }
   ],
   "source": [
    "# Variation for Canada\n",
    "cnd = 'Canada'\n",
    "data = composeData(cnd)\n",
    "sal_var_us = pd.DataFrame(data, columns=['Year', 'Salary'])\n",
    "X = sal_var_us['Year'];\n",
    "Y = sal_var_us['Salary'];\n",
    "plot1 = plt.bar(X, Y)\n",
    "plot2 = plt.plot(X,Y)"
   ]
  },
  {
   "cell_type": "code",
   "execution_count": 34,
   "metadata": {},
   "outputs": [
    {
     "data": {
      "image/png": "[encoded data removed]",
      "text/plain": [
       "<Figure size 432x288 with 1 Axes>"
      ]
     },
     "metadata": {
      "needs_background": "light"
     },
     "output_type": "display_data"
    }
   ],
   "source": [
    "plt.plot(X,Y);\n",
    "plt.ylabel('Average Annual Salary (in USD)');\n",
    "plt.title('Salary trend for Canada during the period 2011-2019');"
   ]
  },
  {
   "cell_type": "code",
   "execution_count": 35,
   "metadata": {},
   "outputs": [
    {
     "data": {
      "image/png": "[encoded data removed]",
      "text/plain": [
       "<Figure size 432x288 with 1 Axes>"
      ]
     },
     "metadata": {
      "needs_background": "light"
     },
     "output_type": "display_data"
    }
   ],
   "source": [
    "# Variation for Australia\n",
    "code = 'Australia'\n",
    "data = [['2012', df12_sal_group[code]], ['2013',df13_sal_group[code]], ['2014',df14_sal_group[code]], ['2015',df15_sal_group[code]], ['2016',df16_sal_group[code]], ['2017',df17_sal_group[code]], ['2018',df18_sal_group[code]], ['2019',df19_sal_group[code]]]\n",
    "sal_var_us = pd.DataFrame(data, columns=['Year', 'Salary'])\n",
    "X = sal_var_us['Year'];\n",
    "Y = sal_var_us['Salary'];\n",
    "plot1 = plt.bar(X, Y)\n",
    "plot2 = plt.plot(X,Y)"
   ]
  },
  {
   "cell_type": "code",
   "execution_count": 36,
   "metadata": {},
   "outputs": [
    {
     "data": {
      "image/png": "[encoded data removed]",
      "text/plain": [
       "<Figure size 432x288 with 1 Axes>"
      ]
     },
     "metadata": {
      "needs_background": "light"
     },
     "output_type": "display_data"
    }
   ],
   "source": [
    "plt.plot(X,Y);\n",
    "plt.ylabel('Average Annual Salary (in USD)');\n",
    "plt.title('Salary trend for Australia during the period 2011-2019');"
   ]
  },
  {
   "cell_type": "code",
   "execution_count": 37,
   "metadata": {},
   "outputs": [
    {
     "data": {
      "text/plain": [
       "Index(['Country', 'Which US State or Territory do you live in?',\n",
       "       'How old are you?',\n",
       "       'How many years of IT/Programming experience do you have?',\n",
       "       'How would you best describe the industry you work in?',\n",
       "       'Which best describes the size of your company?',\n",
       "       'Which of the following best describes your occupation?',\n",
       "       'How likely is it that a recommendation you make will be acted upon?',\n",
       "       'What is your involvement in purchasing? You can choose more than 1.',\n",
       "       'Unnamed: 9', 'Unnamed: 10', 'Unnamed: 11', 'Unnamed: 12',\n",
       "       'Unnamed: 13', 'Unnamed: 14',\n",
       "       'What types of purchases are you involved in?', 'Unnamed: 16',\n",
       "       'Unnamed: 17', 'Unnamed: 18', 'Unnamed: 19', 'Unnamed: 20',\n",
       "       'What is your budget for outside expenditures (hardware, software, consulting, etc) for 2011?',\n",
       "       'Unnamed: 22', 'Unnamed: 23', 'Unnamed: 24', 'Unnamed: 25',\n",
       "       'Unnamed: 26', 'Unnamed: 27', 'Unnamed: 28',\n",
       "       'What type of project are you developing?',\n",
       "       'Which languages are you proficient in?', 'Unnamed: 31', 'Unnamed: 32',\n",
       "       'Unnamed: 33', 'Unnamed: 34', 'Unnamed: 35', 'Unnamed: 36',\n",
       "       'Unnamed: 37', 'Unnamed: 38', 'Unnamed: 39', 'Unnamed: 40',\n",
       "       'Unnamed: 41', 'Unnamed: 42',\n",
       "       'What operating system do you use the most?',\n",
       "       'Please rate your job/career satisfaction', 'Salary',\n",
       "       'Which technology products do you own? (You can choose more than one)',\n",
       "       'Unnamed: 47', 'Unnamed: 48', 'Unnamed: 49', 'Unnamed: 50',\n",
       "       'Unnamed: 51', 'Unnamed: 52', 'Unnamed: 53', 'Unnamed: 54',\n",
       "       'Unnamed: 55', 'Unnamed: 56', 'Unnamed: 57', 'Unnamed: 58',\n",
       "       'Unnamed: 59', 'Unnamed: 60', 'Unnamed: 61', 'Unnamed: 62',\n",
       "       'In the last 12 months, how much money have you spent on personal technology-related purchases? ',\n",
       "       'Which of our sites do you frequent most?'],\n",
       "      dtype='object')"
      ]
     },
     "execution_count": 37,
     "metadata": {},
     "output_type": "execute_result"
    }
   ],
   "source": [
    "# Visualisation aid.\n",
    "\n",
    "df11_sal.columns"
   ]
  },
  {
   "cell_type": "code",
   "execution_count": 38,
   "metadata": {},
   "outputs": [],
   "source": [
    "def dropExtraCols(df_ml):\n",
    "    extraCols = ['Which US State or Territory do you live in?',\n",
    "       'What is your involvement in purchasing? You can choose more than 1.',\n",
    "       'Unnamed: 9', 'Unnamed: 10', 'Unnamed: 11', 'Unnamed: 12',\n",
    "       'Unnamed: 13', 'Unnamed: 14',\n",
    "       'What types of purchases are you involved in?', 'Unnamed: 16',\n",
    "       'Unnamed: 17', 'Unnamed: 18', 'Unnamed: 19', 'Unnamed: 20',\n",
    "       'Unnamed: 22', 'Unnamed: 23', 'Unnamed: 24', 'Unnamed: 25',\n",
    "       'Unnamed: 26', 'Unnamed: 27', 'Unnamed: 28',\n",
    "       'Unnamed: 42',\n",
    "        'Unnamed: 48', 'Unnamed: 49', 'Unnamed: 50',\n",
    "       'Unnamed: 51', 'Unnamed: 52', 'Unnamed: 53', 'Unnamed: 54',\n",
    "       'Unnamed: 55', 'Unnamed: 56', 'Unnamed: 57', 'Unnamed: 58',\n",
    "       'Unnamed: 59', 'Unnamed: 60', 'Unnamed: 61', 'Unnamed: 62',\n",
    "       'Which of our sites do you frequent most?']\n",
    "    df_ml = df_ml.drop(extraCols, axis=1)\n",
    "    return df_ml"
   ]
  },
  {
   "cell_type": "code",
   "execution_count": 39,
   "metadata": {
    "scrolled": true
   },
   "outputs": [
    {
     "name": "stdout",
     "output_type": "stream",
     "text": [
      "Number of features =  105\n",
      "Feature Set =  ['Country_Africa', 'Country_Australasia', 'Country_Australia', 'Country_Canada', 'Country_Central America', 'Country_France', 'Country_Germany', 'Country_India', 'Country_Italy', 'Country_Mexico', 'Country_Middle East', 'Country_Netherlands', 'Country_North America (Other)', 'Country_Other Asia', 'Country_Other Europe', 'Country_Russia', 'Country_South America', 'Country_United Kingdom', 'Country_United States of America', 'How old are you?_20-24', 'How old are you?_25-29', 'How old are you?_30-34', 'How old are you?_35-39', 'How old are you?_40-50', 'How old are you?_51-60', 'How old are you?_< 20', 'How old are you?_>60', 'How many years of IT/Programming experience do you have?_11', 'How many years of IT/Programming experience do you have?_41310', 'How many years of IT/Programming experience do you have?_41435', 'How many years of IT/Programming experience do you have?_<2', 'How would you best describe the industry you work in?_Advertising', 'How would you best describe the industry you work in?_Consulting', 'How would you best describe the industry you work in?_Education', 'How would you best describe the industry you work in?_Finance / Banking', 'How would you best describe the industry you work in?_Foundation / Non-Profit', 'How would you best describe the industry you work in?_Gaming', 'How would you best describe the industry you work in?_Healthcare', 'How would you best describe the industry you work in?_Manufacturing', 'How would you best describe the industry you work in?_Other', 'How would you best describe the industry you work in?_Retail', 'How would you best describe the industry you work in?_Software Products', 'How would you best describe the industry you work in?_Web Services', 'Which best describes the size of your company?_Fortune 1000 (1,000+)', 'Which best describes the size of your company?_Mature Small Business (25-100)', 'Which best describes the size of your company?_Mid Sized (100-999)', 'Which best describes the size of your company?_Other (not working, consultant, etc.)', 'Which best describes the size of your company?_Start Up (1-25)', 'Which best describes the size of your company?_Student', 'Which of the following best describes your occupation?_Database Administrator', 'Which of the following best describes your occupation?_Desktop Application Developer', 'Which of the following best describes your occupation?_Embedded Application Developer', 'Which of the following best describes your occupation?_Executive (VP of Eng, CTO, CIO, etc.)', 'Which of the following best describes your occupation?_IT Manager', 'Which of the following best describes your occupation?_IT Staff / System Administrator', 'Which of the following best describes your occupation?_Kernel / Driver Developer', 'Which of the following best describes your occupation?_Manager of Developers or Team Leader', 'Which of the following best describes your occupation?_Other', 'Which of the following best describes your occupation?_Server Programmer', 'Which of the following best describes your occupation?_Student', 'Which of the following best describes your occupation?_Systems Analyst', 'Which of the following best describes your occupation?_Web Application Developer', 'How likely is it that a recommendation you make will be acted upon?_I run this place', \"How likely is it that a recommendation you make will be acted upon?_It's been known to happen\", 'How likely is it that a recommendation you make will be acted upon?_Not in a million years', 'How likely is it that a recommendation you make will be acted upon?_Once in a blue moon', \"How likely is it that a recommendation you make will be acted upon?_Unless it's stoopid it gets done\", 'What is your budget for outside expenditures (hardware, software, consulting, etc) for 2011?_<$10,000', 'What type of project are you developing?_Enterprise', 'What type of project are you developing?_Mobile', 'What type of project are you developing?_Other', 'What type of project are you developing?_SaaS', 'What type of project are you developing?_Web Platform', 'Which languages are you proficient in?_Java', 'Unnamed: 31_JavaScript', 'Unnamed: 32_CSS', 'Unnamed: 33_PHP', 'Unnamed: 34_Python', 'Unnamed: 35_Ruby', 'Unnamed: 36_SQL', 'Unnamed: 37_C#', 'Unnamed: 38_C++', 'Unnamed: 39_C', 'Unnamed: 40_Perl', 'Unnamed: 41_None', 'What operating system do you use the most?_Linux', 'What operating system do you use the most?_Mac OS X', 'What operating system do you use the most?_Windows 7', 'What operating system do you use the most?_Windows Vista', 'What operating system do you use the most?_Windows XP', 'Please rate your job/career satisfaction_FML', 'Please rate your job/career satisfaction_I enjoy going to work', \"Please rate your job/career satisfaction_I'm not happy in my job\", 'Please rate your job/career satisfaction_It pays the bills', 'Please rate your job/career satisfaction_So happy it hurts', 'Which technology products do you own? (You can choose more than one)_iPhone', 'Unnamed: 47_Android', 'In the last 12 months, how much money have you spent on personal technology-related purchases? _$1,001-$2,000', 'In the last 12 months, how much money have you spent on personal technology-related purchases? _$100-$250', 'In the last 12 months, how much money have you spent on personal technology-related purchases? _$2,001-$3,000', 'In the last 12 months, how much money have you spent on personal technology-related purchases? _$251-$500', 'In the last 12 months, how much money have you spent on personal technology-related purchases? _$501-$1,000', 'In the last 12 months, how much money have you spent on personal technology-related purchases? _<$100', 'In the last 12 months, how much money have you spent on personal technology-related purchases? _>$3,000']\n",
      "Train score =  0.5791335019767017\n",
      "Test score =  0.5657708185738\n"
     ]
    }
   ],
   "source": [
    "# Applying ML on 2011 for predicting salary\n",
    "\n",
    "from sklearn.model_selection import train_test_split\n",
    "from sklearn.linear_model import LinearRegression\n",
    "from sklearn.metrics import r2_score, mean_squared_error\n",
    "\n",
    "df11_ml = df11_sal\n",
    "#df11_ml.head()\n",
    "#print(df11_ml[\"Salary\"])\n",
    "\n",
    "test_size=.3\n",
    "rand_state=42\n",
    "\n",
    "#Drop columns with all NaN values\n",
    "df11_ml = df11_ml.dropna(how='all', axis=1)\n",
    "\n",
    "df11_ml = dropExtraCols(df11_ml)\n",
    "\n",
    "#Pull a list of the column names of the categorical variables\n",
    "cat_df11_ml = df11_ml.select_dtypes(include=['object'])\n",
    "cat_cols = cat_df11_ml.columns\n",
    "\n",
    "#dummy all the cat_cols\n",
    "for col in  cat_cols:\n",
    "    df11_ml = pd.concat([df11_ml.drop(col, axis=1), pd.get_dummies(df11_ml[col], prefix=col, prefix_sep='_', drop_first=False, dummy_na=False)], axis=1)\n",
    "\n",
    "#for col in  cat_cols:\n",
    "#    col_val_count = df11_ml[col].value_counts()\n",
    "#    col_dummies = pd.get_dummies(df11_ml[col].loc[df11_ml[col].isin(col_val_count.index[col_val_count>=50])], prefix=col, prefix_sep='_', drop_first=False, dummy_na=False)\n",
    "#    df11_ml = pd.concat([df11_ml.drop(col, axis=1), col_dummies], axis=1)   \n",
    "\n",
    "# Mean function\n",
    "fill_mean = lambda col: col.fillna(col.mean())\n",
    "# Fill the mean\n",
    "df11_ml = df11_ml.apply(fill_mean, axis=0)\n",
    "\n",
    "#Split into explanatory and response variables\n",
    "X = df11_ml.drop(salary_col_name, axis=1)\n",
    "y = df11_ml[salary_col_name]\n",
    "\n",
    "#Split into train and test\n",
    "X_train, X_test, y_train, y_test = train_test_split(X, y, test_size=test_size, random_state=rand_state)\n",
    "\n",
    "lm_model = LinearRegression(normalize=True) # Instantiate\n",
    "lm_model.fit(X_train, y_train) #Fit\n",
    "\n",
    "#Predict using your model\n",
    "y_train_preds = lm_model.predict(X_train)\n",
    "y_test_preds = lm_model.predict(X_test)\n",
    "\n",
    "\n",
    "#Score using your model\n",
    "train_score = r2_score(y_train, y_train_preds)\n",
    "test_score = r2_score(y_test, y_test_preds)\n",
    "\n",
    "print(\"Number of features = \", len(df11_ml.columns))\n",
    "print(\"Feature Set = \", list(X.columns))\n",
    "print(\"Train score = \", train_score)\n",
    "print(\"Test score = \", test_score)\n",
    "\n",
    "#print(list(df11_ml['Which languages are you proficient in?_Java']))"
   ]
  },
  {
   "cell_type": "code",
   "execution_count": 40,
   "metadata": {},
   "outputs": [
    {
     "data": {
      "text/plain": [
       "Index(['Country', 'Which US State or Territory do you live in?',\n",
       "       'How old are you?',\n",
       "       'How many years of IT/Programming experience do you have?',\n",
       "       'How would you best describe the industry you currently work in?',\n",
       "       'Which best describes the size of your company?',\n",
       "       'Which of the following best describes your occupation?',\n",
       "       'What is your involvement in purchasing products or services for the company you work for? (You can choose more than one)',\n",
       "       'Unnamed: 8', 'Unnamed: 9', 'Unnamed: 10', 'Unnamed: 11', 'Unnamed: 12',\n",
       "       'Unnamed: 13', 'What types of purchases are you involved in?',\n",
       "       'Unnamed: 15', 'Unnamed: 16', 'Unnamed: 17', 'Unnamed: 18',\n",
       "       'Unnamed: 19',\n",
       "       'What is your budget for outside expenditures (hardware, software, consulting, etc) for 2011?',\n",
       "       'What type of project are you developing?',\n",
       "       'Which languages are you proficient in?', 'Unnamed: 23', 'Unnamed: 24',\n",
       "       'Unnamed: 25', 'Unnamed: 26', 'Unnamed: 27', 'Unnamed: 28',\n",
       "       'Unnamed: 29', 'Unnamed: 30', 'Unnamed: 31', 'Unnamed: 32',\n",
       "       'Unnamed: 33', 'Unnamed: 34', 'Unnamed: 35', 'Unnamed: 36',\n",
       "       'Which desktop operating system do you use the most?',\n",
       "       'What best describes your career / job satisfaction? ', 'Salary',\n",
       "       'Have you visited / Are you aware of Stack Overflow Careers?',\n",
       "       'Do you have a Stack Overflow Careers Profile?',\n",
       "       'You answered you don't have a Careers profile, can you elaborate why?',\n",
       "       'Unnamed: 43',\n",
       "       'Which technology products do you own? (You can choose more than one)',\n",
       "       'Unnamed: 45', 'Unnamed: 46', 'Unnamed: 47', 'Unnamed: 48',\n",
       "       'Unnamed: 49', 'Unnamed: 50', 'Unnamed: 51', 'Unnamed: 52',\n",
       "       'Unnamed: 53', 'Unnamed: 54', 'Unnamed: 55', 'Unnamed: 56',\n",
       "       'Unnamed: 57', 'Unnamed: 58', 'Unnamed: 59', 'Unnamed: 60',\n",
       "       'Unnamed: 61', 'Unnamed: 62', 'Unnamed: 63',\n",
       "       'In the last 12 months, how much money have you spent on personal technology-related purchases? ',\n",
       "       'Please rate the advertising you've seen on Stack Overflow',\n",
       "       'Unnamed: 66', 'Unnamed: 67', 'Unnamed: 68', 'Unnamed: 69',\n",
       "       'Unnamed: 70',\n",
       "       'What advertisers do you remember seeing on Stack Overflow?',\n",
       "       'What is your current Stack Overflow reputation?',\n",
       "       'Which of our sites do you frequent most?', 'Unnamed: 74'],\n",
       "      dtype='object')"
      ]
     },
     "execution_count": 40,
     "metadata": {},
     "output_type": "execute_result"
    }
   ],
   "source": [
    "# Visualisation Aid.\n",
    "\n",
    "df12_sal.columns"
   ]
  },
  {
   "cell_type": "code",
   "execution_count": 41,
   "metadata": {},
   "outputs": [],
   "source": [
    "def dropExtraCols(df_ml):\n",
    "    extraCols = [\n",
    "       'Unnamed: 8', 'Unnamed: 9', 'Unnamed: 10', 'Unnamed: 11', 'Unnamed: 12',\n",
    "       'Unnamed: 13', 'What types of purchases are you involved in?',\n",
    "       'Unnamed: 15', 'Unnamed: 16', 'Unnamed: 17', 'Unnamed: 18',\n",
    "       'Unnamed: 19',\n",
    "    \n",
    "       'You answered you don\\'t have a Careers profile, can you elaborate why?',\n",
    "       'Unnamed: 43',\n",
    "       'Unnamed: 46', 'Unnamed: 47', 'Unnamed: 48',\n",
    "       'Unnamed: 49', 'Unnamed: 50', 'Unnamed: 51', 'Unnamed: 52',\n",
    "       'Unnamed: 53', 'Unnamed: 54', 'Unnamed: 55', 'Unnamed: 56',\n",
    "       'Unnamed: 57', 'Unnamed: 58', 'Unnamed: 59', 'Unnamed: 60',\n",
    "       'Unnamed: 61', 'Unnamed: 62', 'Unnamed: 63',\n",
    "       'Please rate the advertising you\\'ve seen on Stack Overflow',\n",
    "       'Unnamed: 66', 'Unnamed: 67', 'Unnamed: 68', 'Unnamed: 69',\n",
    "       'Unnamed: 70',\n",
    "       'What advertisers do you remember seeing on Stack Overflow?',\n",
    "       'Which of our sites do you frequent most?', 'Unnamed: 74']\n",
    "    df_ml = df_ml.drop(extraCols, axis=1)\n",
    "    return df_ml"
   ]
  },
  {
   "cell_type": "code",
   "execution_count": 42,
   "metadata": {},
   "outputs": [],
   "source": [
    "def setDummiesWithThreshold(cols, df_in):\n",
    "    for col in cols:\n",
    "        col_val_count = df_in[col].value_counts()\n",
    "        col_dummies = pd.get_dummies(df_in[col].loc[df_in[col].isin(col_val_count.index[col_val_count>=50])], prefix=col, prefix_sep='_', drop_first=False, dummy_na=False)\n",
    "        df_in = pd.concat([df_in.drop(col, axis=1), col_dummies], axis=1)\n",
    "    return df_in"
   ]
  },
  {
   "cell_type": "code",
   "execution_count": 43,
   "metadata": {},
   "outputs": [],
   "source": [
    "def setDummiesNoThreshold(cols, df_in):\n",
    "    for col in cols:\n",
    "        col_dummies = pd.get_dummies(df_in[col], prefix=col, prefix_sep='_', drop_first=False, dummy_na=False)\n",
    "        df_in = pd.concat([df_in.drop(col, axis=1), col_dummies], axis=1)\n",
    "    return df_in"
   ]
  },
  {
   "cell_type": "code",
   "execution_count": 44,
   "metadata": {},
   "outputs": [
    {
     "name": "stdout",
     "output_type": "stream",
     "text": [
      "Number of features =  120\n",
      "Feature Set =  ['Country_Australasia', 'Country_Australia', 'Country_Canada', 'Country_France', 'Country_Germany', 'Country_India', 'Country_Italy', 'Country_Middle East', 'Country_Netherlands', 'Country_Other Asia', 'Country_Other Europe', 'Country_Russia', 'Country_South America', 'Country_United Kingdom', 'Country_United States of America', 'Which US State or Territory do you live in?_California', 'Which US State or Territory do you live in?_Illinois', 'Which US State or Territory do you live in?_Massachusetts', 'Which US State or Territory do you live in?_New York', 'Which US State or Territory do you live in?_Texas', 'Which US State or Territory do you live in?_Washington', 'How old are you?_20-24', 'How old are you?_25-29', 'How old are you?_30-34', 'How old are you?_35-39', 'How old are you?_40-50', 'How old are you?_51-60', 'How old are you?_< 20', 'How many years of IT/Programming experience do you have?_11', 'How many years of IT/Programming experience do you have?_40944', 'How many years of IT/Programming experience do you have?_41070', 'How many years of IT/Programming experience do you have?_<2', 'How would you best describe the industry you currently work in?_Advertising', 'How would you best describe the industry you currently work in?_Consulting', 'How would you best describe the industry you currently work in?_Education', 'How would you best describe the industry you currently work in?_Finance / Banking', 'How would you best describe the industry you currently work in?_Foundation / Non-Profit', 'How would you best describe the industry you currently work in?_Gaming', 'How would you best describe the industry you currently work in?_Healthcare', 'How would you best describe the industry you currently work in?_Manufacturing', 'How would you best describe the industry you currently work in?_Other', 'How would you best describe the industry you currently work in?_Retail', 'How would you best describe the industry you currently work in?_Software Products', 'How would you best describe the industry you currently work in?_Web Services', 'Which best describes the size of your company?_Fortune 1000 (1,000+)', 'Which best describes the size of your company?_Mature Small Business (25-100)', 'Which best describes the size of your company?_Mid Sized (100-999)', 'Which best describes the size of your company?_Other (not working, consultant, etc.)', 'Which best describes the size of your company?_Start Up (1-25)', 'Which best describes the size of your company?_Student', 'Which of the following best describes your occupation?_Desktop Application Developer', 'Which of the following best describes your occupation?_Embedded Application Developer', 'Which of the following best describes your occupation?_Executive (VP of Eng, CTO, CIO, etc.)', 'Which of the following best describes your occupation?_IT Staff / System Administrator', 'Which of the following best describes your occupation?_Manager of Developers or Team Leader', 'Which of the following best describes your occupation?_Other', 'Which of the following best describes your occupation?_Server Programmer', 'Which of the following best describes your occupation?_Student', 'Which of the following best describes your occupation?_Systems Analyst', 'Which of the following best describes your occupation?_Web Application Developer', 'What is your involvement in purchasing products or services for the company you work for? (You can choose more than one)_Influencer', 'What is your budget for outside expenditures (hardware, software, consulting, etc) for 2011?_$10,001 - $25,000', 'What is your budget for outside expenditures (hardware, software, consulting, etc) for 2011?_$100,001 - $150,000', 'What is your budget for outside expenditures (hardware, software, consulting, etc) for 2011?_$25,001 - $40,000', 'What is your budget for outside expenditures (hardware, software, consulting, etc) for 2011?_$41,000 - $75,000', 'What is your budget for outside expenditures (hardware, software, consulting, etc) for 2011?_<$10,000', 'What is your budget for outside expenditures (hardware, software, consulting, etc) for 2011?_>$150,000', \"What is your budget for outside expenditures (hardware, software, consulting, etc) for 2011?_Don't know\", 'What type of project are you developing?_Enterprise', 'What type of project are you developing?_Mobile', 'What type of project are you developing?_Other', 'What type of project are you developing?_SaaS', 'What type of project are you developing?_Web Platform', 'Which languages are you proficient in?_Java', 'Unnamed: 23_JavaScript', 'Unnamed: 24_CSS', 'Unnamed: 25_PHP', 'Unnamed: 26_Python', 'Unnamed: 27_Objective-C', 'Unnamed: 28_Ruby', 'Unnamed: 29_SQL', 'Unnamed: 30_C#', 'Unnamed: 31_C++', 'Unnamed: 32_C', 'Unnamed: 33_Perl', 'Unnamed: 34_HTML5', 'Which desktop operating system do you use the most?_Linux', 'Which desktop operating system do you use the most?_Mac OS X', 'Which desktop operating system do you use the most?_Windows 7', 'Which desktop operating system do you use the most?_Windows XP', 'What best describes your career / job satisfaction? _I enjoy going to work', 'What best describes your career / job satisfaction? _I wish I had a job!', \"What best describes your career / job satisfaction? _I'm not happy in my job\", 'What best describes your career / job satisfaction? _Its a paycheck', 'What best describes your career / job satisfaction? _Love my job', 'Have you visited / Are you aware of Stack Overflow Careers?_No', 'Have you visited / Are you aware of Stack Overflow Careers?_Yes', 'Do you have a Stack Overflow Careers Profile?_No thank you', 'Do you have a Stack Overflow Careers Profile?_No, but I want one! (Please provide email and we will invite you)', 'Do you have a Stack Overflow Careers Profile?_Yes', 'Which technology products do you own? (You can choose more than one)_iPhone', 'Unnamed: 45_Android', 'In the last 12 months, how much money have you spent on personal technology-related purchases? _$1,001-$2,000', 'In the last 12 months, how much money have you spent on personal technology-related purchases? _$100-$250', 'In the last 12 months, how much money have you spent on personal technology-related purchases? _$2,001-$3,000', 'In the last 12 months, how much money have you spent on personal technology-related purchases? _$251-$500', 'In the last 12 months, how much money have you spent on personal technology-related purchases? _$501-$1,000', 'In the last 12 months, how much money have you spent on personal technology-related purchases? _<$100', 'In the last 12 months, how much money have you spent on personal technology-related purchases? _>$3,000', 'What is your current Stack Overflow reputation?_1', 'What is your current Stack Overflow reputation?_100', 'What is your current Stack Overflow reputation?_1000', 'What is your current Stack Overflow reputation?_10000', 'What is your current Stack Overflow reputation?_200', 'What is your current Stack Overflow reputation?_2000', 'What is your current Stack Overflow reputation?_3000', 'What is your current Stack Overflow reputation?_50', 'What is your current Stack Overflow reputation?_500', 'What is your current Stack Overflow reputation?_5000', \"What is your current Stack Overflow reputation?_Don't have an account\"]\n",
      "Train score =  0.5956513499738609\n",
      "Test score =  0.6062544405897117\n"
     ]
    }
   ],
   "source": [
    "# Applying ML on 2012 for predicting salary\n",
    "\n",
    "from sklearn.model_selection import train_test_split\n",
    "from sklearn.linear_model import LinearRegression\n",
    "from sklearn.metrics import r2_score, mean_squared_error\n",
    "\n",
    "df12_ml = df12_sal\n",
    "\n",
    "test_size=.3\n",
    "rand_state=42\n",
    "\n",
    "#Drop columns with all NaN values\n",
    "df12_ml = df12_ml.dropna(how='all', axis=1)\n",
    "\n",
    "df12_ml = dropExtraCols(df12_ml)\n",
    "\n",
    "#Pull a list of the column names of the categorical variables\n",
    "cat_df12_ml = df12_ml.select_dtypes(include=['object'])\n",
    "cat_cols = cat_df12_ml.columns\n",
    "\n",
    "#dummy all the cat_cols\n",
    "for col in  cat_cols:\n",
    "    col_val_count = df12_ml[col].value_counts()\n",
    "    col_dummies = pd.get_dummies(df12_ml[col].loc[df12_ml[col].isin(col_val_count.index[col_val_count>=50])], prefix=col, prefix_sep='_', drop_first=False, dummy_na=False)\n",
    "    df12_ml = pd.concat([df12_ml.drop(col, axis=1), col_dummies], axis=1)\n",
    "\n",
    "#cols_with_threshold = [\"Country\", 'Which of the following best describes your occupation?']\n",
    "#cols_no_threshold = list()\n",
    "\n",
    "#for col in cat_cols:\n",
    "#    if col not in cols_with_threshold:\n",
    "#        cols_no_threshold.append(col)\n",
    "\n",
    "#df12_ml = setDummiesWithThreshold(cols_with_threshold, df12_ml)\n",
    "#df12_ml = setDummiesNoThreshold(cols_no_threshold, df12_ml)\n",
    "\n",
    "# Mean function\n",
    "fill_mean = lambda col: col.fillna(col.mean())\n",
    "# Fill the mean\n",
    "df12_ml = df12_ml.apply(fill_mean, axis=0)\n",
    "\n",
    "#Split into explanatory and response variables\n",
    "X = df12_ml.drop(salary_col_name, axis=1)\n",
    "y = df12_ml[salary_col_name]\n",
    "\n",
    "#Split into train and test\n",
    "X_train, X_test, y_train, y_test = train_test_split(X, y, test_size=test_size, random_state=rand_state)\n",
    "\n",
    "lm_model = LinearRegression(normalize=True) # Instantiate\n",
    "lm_model.fit(X_train, y_train) #Fit\n",
    "\n",
    "#Predict using your model\n",
    "y_train_preds = lm_model.predict(X_train)\n",
    "y_test_preds = lm_model.predict(X_test)\n",
    "\n",
    "\n",
    "#Score using your model\n",
    "train_score = r2_score(y_train, y_train_preds)\n",
    "test_score = r2_score(y_test, y_test_preds)\n",
    "\n",
    "train_ms_error = mean_squared_error(y_train, y_train_preds)\n",
    "test_ms_error = mean_squared_error(y_test, y_test_preds)\n",
    "\n",
    "print(\"Number of features = \", len(X.columns))\n",
    "print(\"Feature Set = \", list(X.columns))\n",
    "print(\"Train score = \", train_score)\n",
    "print(\"Test score = \", test_score)\n",
    "#print(\"MS Train error = \", train_ms_error)\n",
    "#print(\"MS Test error = \", test_ms_error)"
   ]
  },
  {
   "cell_type": "code",
   "execution_count": 47,
   "metadata": {},
   "outputs": [
    {
     "name": "stdout",
     "output_type": "stream",
     "text": [
      "['Country', 'Which US State or Territory do you live in?', 'How old are you?', 'How many years of IT/Programming experience do you have?', 'How would you best describe the industry you currently work in?', 'How many people work for your company?', 'Which of the following best describes your occupation?', 'Including yourself, how many developers are employed at your company?', 'How large is the team that you work on?', 'What other departments / roles do you interact with regularly?', 'Unnamed: 10', 'Unnamed: 11', 'Unnamed: 12', 'Unnamed: 13', 'Unnamed: 14', 'Unnamed: 15', 'Unnamed: 16', 'Unnamed: 17', 'Unnamed: 18', 'If your company has a native mobile app, what platforms do you support?', 'Unnamed: 20', 'Unnamed: 21', 'Unnamed: 22', 'Unnamed: 23', 'Unnamed: 24', 'Unnamed: 25', 'If you make a software product, how does your company make money? (You can choose more than one)', 'Unnamed: 27', 'Unnamed: 28', 'Unnamed: 29', 'Unnamed: 30', 'Unnamed: 31', 'Unnamed: 32', 'Unnamed: 33', 'In an average week, how do you spend your time?', 'Unnamed: 35', 'Unnamed: 36', 'Unnamed: 37', 'Unnamed: 38', 'Unnamed: 39', 'Unnamed: 40', 'Unnamed: 41', 'What is your involvement in purchasing products or services for the company you work for? (You can choose more than one)', 'Unnamed: 43', 'Unnamed: 44', 'Unnamed: 45', 'Unnamed: 46', 'Unnamed: 47', 'Unnamed: 48', 'What types of purchases are you involved in?', 'Unnamed: 50', 'Unnamed: 51', 'Unnamed: 52', 'Unnamed: 53', 'Unnamed: 54', 'What is your budget for outside expenditures (hardware, software, consulting, etc) for 2013?', 'Which of the following languages or technologies have you used significantly in the past year?', 'Unnamed: 57', 'Unnamed: 58', 'Unnamed: 59', 'Unnamed: 60', 'Unnamed: 61', 'Unnamed: 62', 'Unnamed: 63', 'Unnamed: 64', 'Unnamed: 65', 'Unnamed: 66', 'Unnamed: 67', 'Unnamed: 68', 'Unnamed: 69', 'Which technologies are you excited about?', 'Unnamed: 71', 'Unnamed: 72', 'Unnamed: 73', 'Unnamed: 74', 'Unnamed: 75', 'Unnamed: 76', 'Unnamed: 77', 'Unnamed: 78', 'Unnamed: 79', 'Unnamed: 80', 'Which desktop operating system do you use the most?', 'Please rate how important each of the following characteristics of a company/job offer are to you.    Please select a MAXIMUM of 3 items as \"Non-Negotiables\" to help us identify the most important items, those where you would never consider a company if they didn\\'t meet them.', 'Unnamed: 83', 'Unnamed: 84', 'Unnamed: 85', 'Unnamed: 86', 'Unnamed: 87', 'Unnamed: 88', 'Unnamed: 89', 'Unnamed: 90', 'Unnamed: 91', 'Unnamed: 92', 'Unnamed: 93', 'Unnamed: 94', 'Unnamed: 95', 'Unnamed: 96', 'Unnamed: 97', 'Have you changed jobs in the last 12 months?', 'What best describes your career / job satisfaction?', 'Salary', 'Which technology products do you own? (You can choose more than one)', 'Unnamed: 102', 'Unnamed: 103', 'Unnamed: 104', 'Unnamed: 105', 'Unnamed: 106', 'Unnamed: 107', 'Unnamed: 108', 'Unnamed: 109', 'Unnamed: 110', 'Unnamed: 111', 'Unnamed: 112', 'Unnamed: 113', 'Unnamed: 114', 'In the last 12 months, how much money have you spent on personal technology-related purchases?', \"Please rate the advertising you've seen on Stack Overflow\", 'Unnamed: 117', 'Unnamed: 118', 'Unnamed: 119', 'Unnamed: 120', 'Unnamed: 121', 'What advertisers do you remember seeing on Stack Overflow?', 'What is your current Stack Overflow reputation?', 'How do you use Stack Overflow?', 'Unnamed: 125', 'Unnamed: 126', 'Unnamed: 127']\n"
     ]
    }
   ],
   "source": [
    "print(list(df13_sal.columns))"
   ]
  },
  {
   "cell_type": "code",
   "execution_count": 96,
   "metadata": {},
   "outputs": [],
   "source": [
    "def dropExtraCols(df_ml):\n",
    "    extraCols = [ \n",
    "                 'Including yourself, how many developers are employed at your company?', \n",
    "                 'How large is the team that you work on?', \n",
    "                 'What other departments / roles do you interact with regularly?', \n",
    "                 'Unnamed: 10', 'Unnamed: 11', 'Unnamed: 12', 'Unnamed: 13', 'Unnamed: 14', 'Unnamed: 15', \n",
    "                 'Unnamed: 16', 'Unnamed: 17', 'Unnamed: 18', \n",
    "                 'If your company has a native mobile app, what platforms do you support?', 'Unnamed: 20', \n",
    "                 'Unnamed: 21', 'Unnamed: 22', 'Unnamed: 23', 'Unnamed: 24', 'Unnamed: 25', \n",
    "                 'If you make a software product, how does your company make money? (You can choose more than one)', \n",
    "                 'Unnamed: 27', 'Unnamed: 28', 'Unnamed: 29', 'Unnamed: 30', 'Unnamed: 31', 'Unnamed: 32', \n",
    "                 'Unnamed: 33', 'In an average week, how do you spend your time?', 'Unnamed: 35', \n",
    "                 'Unnamed: 36', 'Unnamed: 37', 'Unnamed: 38', 'Unnamed: 39', 'Unnamed: 40', 'Unnamed: 41', \n",
    "                 'What is your involvement in purchasing products or services for the company you work for? (You can choose more than one)', \n",
    "                 'Unnamed: 43', 'Unnamed: 44', 'Unnamed: 45', 'Unnamed: 47',\n",
    "                 'What types of purchases are you involved in?', 'Unnamed: 50', 'Unnamed: 51', 'Unnamed: 52', 'Unnamed: 53', \n",
    "                 'Unnamed: 54', \n",
    "                 'Which of the following languages or technologies have you used significantly in the past year?', \n",
    "                 'Unnamed: 57', 'Unnamed: 58', 'Unnamed: 59', 'Unnamed: 60', 'Unnamed: 61', 'Unnamed: 62', 'Unnamed: 63', \n",
    "                 'Unnamed: 64', 'Unnamed: 65', 'Unnamed: 66', 'Unnamed: 67', 'Unnamed: 68', 'Unnamed: 69', \n",
    "                 'Which technologies are you excited about?', 'Unnamed: 71', 'Unnamed: 72', 'Unnamed: 73', 'Unnamed: 74', \n",
    "                 'Unnamed: 75', 'Unnamed: 76', 'Unnamed: 77', 'Unnamed: 78', 'Unnamed: 79', 'Unnamed: 80', \n",
    "                 'Which desktop operating system do you use the most?', \n",
    "                  \n",
    "                 \"Please rate the advertising you've seen on Stack Overflow\", 'Unnamed: 117', 'Unnamed: 118', 'Unnamed: 119', \n",
    "                 'Unnamed: 120', 'Unnamed: 121', 'What advertisers do you remember seeing on Stack Overflow?', \n",
    "                  'How do you use Stack Overflow?', 'Unnamed: 125', \n",
    "                 'Unnamed: 126', 'Unnamed: 127']\n",
    "    df_ml = df_ml.drop(extraCols, axis=1)\n",
    "    return df_ml"
   ]
  },
  {
   "cell_type": "code",
   "execution_count": 97,
   "metadata": {},
   "outputs": [
    {
     "name": "stdout",
     "output_type": "stream",
     "text": [
      "Number of features =  195\n",
      "Feature Set =  ['Country_Australasia', 'Country_Australia', 'Country_Canada', 'Country_France', 'Country_Germany', 'Country_India', 'Country_Italy', 'Country_Middle East', 'Country_Netherlands', 'Country_Other Asia', 'Country_Other Europe', 'Country_Russia', 'Country_South America', 'Country_United Kingdom', 'Country_United States of America', 'Which US State or Territory do you live in?_Arizona', 'Which US State or Territory do you live in?_California', 'Which US State or Territory do you live in?_Colorado', 'Which US State or Territory do you live in?_Florida', 'Which US State or Territory do you live in?_Illinois', 'Which US State or Territory do you live in?_Maryland', 'Which US State or Territory do you live in?_Massachusetts', 'Which US State or Territory do you live in?_Michigan', 'Which US State or Territory do you live in?_Minnesota', 'Which US State or Territory do you live in?_New Jersey', 'Which US State or Territory do you live in?_New York', 'Which US State or Territory do you live in?_North Carolina', 'Which US State or Territory do you live in?_Ohio', 'Which US State or Territory do you live in?_Pennsylvania', 'Which US State or Territory do you live in?_Texas', 'Which US State or Territory do you live in?_Virginia', 'Which US State or Territory do you live in?_Washington', 'How old are you?_20-24', 'How old are you?_25-29', 'How old are you?_30-34', 'How old are you?_35-39', 'How old are you?_40-50', 'How old are you?_51-60', 'How old are you?_< 20', 'How many years of IT/Programming experience do you have?_11', 'How many years of IT/Programming experience do you have?_2/5/2013', 'How many years of IT/Programming experience do you have?_6/10/2013', 'How many years of IT/Programming experience do you have?_<2', 'How would you best describe the industry you currently work in?_Advertising', 'How would you best describe the industry you currently work in?_Consulting', 'How would you best describe the industry you currently work in?_Education', 'How would you best describe the industry you currently work in?_Finance / Banking', 'How would you best describe the industry you currently work in?_Foundation / Non-Profit', 'How would you best describe the industry you currently work in?_Gaming', 'How would you best describe the industry you currently work in?_Healthcare', 'How would you best describe the industry you currently work in?_Manufacturing', 'How would you best describe the industry you currently work in?_Other', 'How would you best describe the industry you currently work in?_Retail', 'How would you best describe the industry you currently work in?_Software Products', 'How would you best describe the industry you currently work in?_Web Services', 'How many people work for your company?_1,000-3,000', 'How many people work for your company?_1/25/2013', 'How many people work for your company?_101-999', 'How many people work for your company?_26-100', 'How many people work for your company?_3001', 'How many people work for your company?_Other (not working, consultant, etc.)', 'Which of the following best describes your occupation?_Back-End Web Developer', 'Which of the following best describes your occupation?_Desktop Software Developer', 'Which of the following best describes your occupation?_Embedded Application Developer', 'Which of the following best describes your occupation?_Enterprise Level Services', 'Which of the following best describes your occupation?_Executive (VP of Eng, CTO, CIO, etc.)', 'Which of the following best describes your occupation?_Front-End Web Developer', 'Which of the following best describes your occupation?_Full-Stack Web Developer', \"Which of the following best describes your occupation?_I don't work in tech\", 'Which of the following best describes your occupation?_IT Staff / System Administrator', 'Which of the following best describes your occupation?_Manager of Developers or Team Leader', 'Which of the following best describes your occupation?_Mobile Application Developer', 'Which of the following best describes your occupation?_Other', 'Which of the following best describes your occupation?_Student', 'What is your budget for outside expenditures (hardware, software, consulting, etc) for 2013?_$1,001 - $5,000', 'What is your budget for outside expenditures (hardware, software, consulting, etc) for 2013?_$10,001 - $25,000', 'What is your budget for outside expenditures (hardware, software, consulting, etc) for 2013?_$25,001 - $100,000', 'What is your budget for outside expenditures (hardware, software, consulting, etc) for 2013?_100001', 'What is your budget for outside expenditures (hardware, software, consulting, etc) for 2013?_<$1,000', \"What is your budget for outside expenditures (hardware, software, consulting, etc) for 2013?_Don't know\", 'Please rate how important each of the following characteristics of a company/job offer are to you.    Please select a MAXIMUM of 3 items as \"Non-Negotiables\" to help us identify the most important items, those where you would never consider a company if they didn\\'t meet them._Don\\'t Care', 'Please rate how important each of the following characteristics of a company/job offer are to you.    Please select a MAXIMUM of 3 items as \"Non-Negotiables\" to help us identify the most important items, those where you would never consider a company if they didn\\'t meet them._Non-Negotiable', 'Please rate how important each of the following characteristics of a company/job offer are to you.    Please select a MAXIMUM of 3 items as \"Non-Negotiables\" to help us identify the most important items, those where you would never consider a company if they didn\\'t meet them._Not Very Important', 'Please rate how important each of the following characteristics of a company/job offer are to you.    Please select a MAXIMUM of 3 items as \"Non-Negotiables\" to help us identify the most important items, those where you would never consider a company if they didn\\'t meet them._Somewhat Important', 'Please rate how important each of the following characteristics of a company/job offer are to you.    Please select a MAXIMUM of 3 items as \"Non-Negotiables\" to help us identify the most important items, those where you would never consider a company if they didn\\'t meet them._Very Important', \"Unnamed: 83_Don't Care\", 'Unnamed: 83_Non-Negotiable', 'Unnamed: 83_Not Very Important', 'Unnamed: 83_Somewhat Important', 'Unnamed: 83_Very Important', \"Unnamed: 84_Don't Care\", 'Unnamed: 84_Non-Negotiable', 'Unnamed: 84_Not Very Important', 'Unnamed: 84_Somewhat Important', 'Unnamed: 84_Very Important', \"Unnamed: 85_Don't Care\", 'Unnamed: 85_Non-Negotiable', 'Unnamed: 85_Not Very Important', 'Unnamed: 85_Somewhat Important', 'Unnamed: 85_Very Important', 'Unnamed: 86_Non-Negotiable', 'Unnamed: 86_Not Very Important', 'Unnamed: 86_Somewhat Important', 'Unnamed: 86_Very Important', 'Unnamed: 87_Non-Negotiable', 'Unnamed: 87_Not Very Important', 'Unnamed: 87_Somewhat Important', 'Unnamed: 87_Very Important', \"Unnamed: 88_Don't Care\", 'Unnamed: 88_Non-Negotiable', 'Unnamed: 88_Not Very Important', 'Unnamed: 88_Somewhat Important', 'Unnamed: 88_Very Important', \"Unnamed: 89_Don't Care\", 'Unnamed: 89_Non-Negotiable', 'Unnamed: 89_Not Very Important', 'Unnamed: 89_Somewhat Important', 'Unnamed: 89_Very Important', 'Unnamed: 90_Non-Negotiable', 'Unnamed: 90_Not Very Important', 'Unnamed: 90_Somewhat Important', 'Unnamed: 90_Very Important', \"Unnamed: 91_Don't Care\", 'Unnamed: 91_Non-Negotiable', 'Unnamed: 91_Not Very Important', 'Unnamed: 91_Somewhat Important', 'Unnamed: 91_Very Important', \"Unnamed: 92_Don't Care\", 'Unnamed: 92_Non-Negotiable', 'Unnamed: 92_Not Very Important', 'Unnamed: 92_Somewhat Important', 'Unnamed: 92_Very Important', \"Unnamed: 93_Don't Care\", 'Unnamed: 93_Not Very Important', 'Unnamed: 93_Somewhat Important', 'Unnamed: 93_Very Important', \"Unnamed: 94_Don't Care\", 'Unnamed: 94_Non-Negotiable', 'Unnamed: 94_Not Very Important', 'Unnamed: 94_Somewhat Important', 'Unnamed: 94_Very Important', \"Unnamed: 95_Don't Care\", 'Unnamed: 95_Non-Negotiable', 'Unnamed: 95_Not Very Important', 'Unnamed: 95_Somewhat Important', 'Unnamed: 95_Very Important', \"Unnamed: 96_Don't Care\", 'Unnamed: 96_Non-Negotiable', 'Unnamed: 96_Not Very Important', 'Unnamed: 96_Somewhat Important', 'Unnamed: 96_Very Important', \"Unnamed: 97_Don't Care\", 'Unnamed: 97_Non-Negotiable', 'Unnamed: 97_Not Very Important', 'Unnamed: 97_Somewhat Important', 'Unnamed: 97_Very Important', 'Have you changed jobs in the last 12 months?_No', 'Have you changed jobs in the last 12 months?_Yes', 'What best describes your career / job satisfaction?_Hate my job', 'What best describes your career / job satisfaction?_I enjoy going to work', 'What best describes your career / job satisfaction?_I wish I had a job!', \"What best describes your career / job satisfaction?_I'm not happy in my job\", \"What best describes your career / job satisfaction?_It's a paycheck\", 'What best describes your career / job satisfaction?_Love my job', 'Which technology products do you own? (You can choose more than one)_iPhone', 'Unnamed: 102_Android', 'Unnamed: 103_Blackberry', 'Unnamed: 104_Windows Phone', 'Unnamed: 105_iPad', 'Unnamed: 106_Android Tablet', 'Unnamed: 107_Kindle Fire', 'Unnamed: 108_Windows Tablet', 'Unnamed: 109_Kindle', 'Unnamed: 110_Nook', 'Unnamed: 111_PS3', 'Unnamed: 112_Xbox', 'Unnamed: 113_Wii', 'In the last 12 months, how much money have you spent on personal technology-related purchases?_$1,001-$2,000', 'In the last 12 months, how much money have you spent on personal technology-related purchases?_$100-$250', 'In the last 12 months, how much money have you spent on personal technology-related purchases?_$2,001-$3,000', 'In the last 12 months, how much money have you spent on personal technology-related purchases?_$251-$500', 'In the last 12 months, how much money have you spent on personal technology-related purchases?_$501-$1,000', 'In the last 12 months, how much money have you spent on personal technology-related purchases?_<$100', 'In the last 12 months, how much money have you spent on personal technology-related purchases?_>$3,000', 'What is your current Stack Overflow reputation?_1', 'What is your current Stack Overflow reputation?_100', 'What is your current Stack Overflow reputation?_1000', 'What is your current Stack Overflow reputation?_10000', 'What is your current Stack Overflow reputation?_200', 'What is your current Stack Overflow reputation?_2000', 'What is your current Stack Overflow reputation?_3000', 'What is your current Stack Overflow reputation?_50', 'What is your current Stack Overflow reputation?_500', 'What is your current Stack Overflow reputation?_5000', \"What is your current Stack Overflow reputation?_Don't have an account\"]\n",
      "Train score =  0.607734848899947\n",
      "Test score =  0.6201508049736751\n"
     ]
    }
   ],
   "source": [
    "# Applying ML on 2013 for predicting salary\n",
    "\n",
    "from sklearn.model_selection import train_test_split\n",
    "from sklearn.linear_model import LinearRegression\n",
    "from sklearn.metrics import r2_score, mean_squared_error\n",
    "\n",
    "df13_ml = df13_sal\n",
    "\n",
    "test_size=.3\n",
    "rand_state=42\n",
    "\n",
    "#Drop columns with all NaN values\n",
    "df13_ml = df13_ml.dropna(how='all', axis=1)\n",
    "\n",
    "df13_ml = dropExtraCols(df13_ml)\n",
    "\n",
    "#Pull a list of the column names of the categorical variables\n",
    "cat_df13_ml = df13_ml.select_dtypes(include=['object'])\n",
    "cat_cols = cat_df13_ml.columns\n",
    "\n",
    "#dummy all the cat_cols\n",
    "for col in  cat_cols:\n",
    "    col_val_count = df13_ml[col].value_counts()\n",
    "    col_dummies = pd.get_dummies(df13_ml[col].loc[df13_ml[col].isin(col_val_count.index[col_val_count>=50])], prefix=col, prefix_sep='_', drop_first=False, dummy_na=False)\n",
    "    df13_ml = pd.concat([df13_ml.drop(col, axis=1), col_dummies], axis=1)\n",
    "\n",
    "# Mean function\n",
    "fill_mean = lambda col: col.fillna(col.mean())\n",
    "# Fill the mean\n",
    "df13_ml = df13_ml.apply(fill_mean, axis=0)\n",
    "\n",
    "#Split into explanatory and response variables\n",
    "X = df13_ml.drop(salary_col_name, axis=1)\n",
    "y = df13_ml[salary_col_name]\n",
    "\n",
    "#Split into train and test\n",
    "X_train, X_test, y_train, y_test = train_test_split(X, y, test_size=test_size, random_state=rand_state)\n",
    "\n",
    "lm_model = LinearRegression(normalize=True) # Instantiate\n",
    "lm_model.fit(X_train, y_train) #Fit\n",
    "\n",
    "#Predict using your model\n",
    "y_train_preds = lm_model.predict(X_train)\n",
    "y_test_preds = lm_model.predict(X_test)\n",
    "\n",
    "\n",
    "#Score using your model\n",
    "train_score = r2_score(y_train, y_train_preds)\n",
    "test_score = r2_score(y_test, y_test_preds)\n",
    "\n",
    "train_ms_error = mean_squared_error(y_train, y_train_preds)\n",
    "test_ms_error = mean_squared_error(y_test, y_test_preds)\n",
    "\n",
    "print(\"Number of features = \", len(X.columns))\n",
    "print(\"Feature Set = \", list(X.columns))\n",
    "print(\"Train score = \", train_score)\n",
    "print(\"Test score = \", test_score)"
   ]
  },
  {
   "cell_type": "code",
   "execution_count": 98,
   "metadata": {},
   "outputs": [
    {
     "name": "stdout",
     "output_type": "stream",
     "text": [
      "['index', 'Country', 'Age', 'Gender', 'Tabs or Spaces', 'Years IT / Programming Experience', 'Occupation', 'Desktop Operating System', 'Desktop Operating System: write-in', 'Current Lang & Tech: Android', 'Current Lang & Tech: Arduino', 'Current Lang & Tech: AngularJS', 'Current Lang & Tech: C', 'Current Lang & Tech: C++', 'Current Lang & Tech: C++11', 'Current Lang & Tech: C#', 'Current Lang & Tech: Cassandra', 'Current Lang & Tech: CoffeeScript', 'Current Lang & Tech: Cordova', 'Current Lang & Tech: Clojure', 'Current Lang & Tech: Cloud', 'Current Lang & Tech: Dart', 'Current Lang & Tech: F#', 'Current Lang & Tech: Go', 'Current Lang & Tech: Hadoop', 'Current Lang & Tech: Haskell', 'Current Lang & Tech: iOS', 'Current Lang & Tech: Java', 'Current Lang & Tech: JavaScript', 'Current Lang & Tech: LAMP', 'Current Lang & Tech: Matlab', 'Current Lang & Tech: MongoDB', 'Current Lang & Tech: Node.js', 'Current Lang & Tech: Objective-C', 'Current Lang & Tech: Perl', 'Current Lang & Tech: PHP', 'Current Lang & Tech: Python', 'Current Lang & Tech: R', 'Current Lang & Tech: Redis', 'Current Lang & Tech: Ruby', 'Current Lang & Tech: Rust', 'Current Lang & Tech: Salesforce', 'Current Lang & Tech: Scala', 'Current Lang & Tech: Sharepoint', 'Current Lang & Tech: Spark', 'Current Lang & Tech: SQL', 'Current Lang & Tech: SQL Server', 'Current Lang & Tech: Swift', 'Current Lang & Tech: Visual Basic', 'Current Lang & Tech: Windows Phone', 'Current Lang & Tech: Wordpress', 'Current Lang & Tech: Write-In', 'Future Lang & Tech: Android', 'Future Lang & Tech: Arduino', 'Future Lang & Tech: AngularJS', 'Future Lang & Tech: C', 'Future Lang & Tech: C++', 'Future Lang & Tech: C++11', 'Future Lang & Tech: C#', 'Future Lang & Tech: Cassandra', 'Future Lang & Tech: CoffeeScript', 'Future Lang & Tech: Cordova', 'Future Lang & Tech: Clojure', 'Future Lang & Tech: Cloud', 'Future Lang & Tech: Dart', 'Future Lang & Tech: F#', 'Future Lang & Tech: Go', 'Future Lang & Tech: Hadoop', 'Future Lang & Tech: Haskell', 'Future Lang & Tech: iOS', 'Future Lang & Tech: Java', 'Future Lang & Tech: JavaScript', 'Future Lang & Tech: LAMP', 'Future Lang & Tech: Matlab', 'Future Lang & Tech: MongoDB', 'Future Lang & Tech: Node.js', 'Future Lang & Tech: Objective-C', 'Future Lang & Tech: Perl', 'Future Lang & Tech: PHP', 'Future Lang & Tech: Python', 'Future Lang & Tech: R', 'Future Lang & Tech: Redis', 'Future Lang & Tech: Ruby', 'Future Lang & Tech: Rust', 'Future Lang & Tech: Salesforce', 'Future Lang & Tech: Scala', 'Future Lang & Tech: Sharepoint', 'Future Lang & Tech: Spark', 'Future Lang & Tech: SQL', 'Future Lang & Tech: SQL Server', 'Future Lang & Tech: Swift', 'Future Lang & Tech: Visual Basic', 'Future Lang & Tech: Windows Phone', 'Future Lang & Tech: Wordpress', 'Future Lang & Tech: Write-In', 'Training & Education: No formal training', 'Training & Education: On the job', 'Training & Education: Boot camp or night school', 'Training & Education: Online Class', 'Training & Education: Mentorship', 'Training & Education: Industry certification', 'Training & Education: Some college, but no CS degree', 'Training & Education: BS in CS', 'Training & Education: Masters in CS', 'Training & Education: PhD in CS', 'Training & Education: Other', 'Compensation', 'Salary', 'Employment Status', 'Industry', 'Job Satisfaction', 'Purchasing Power', 'Remote Status', 'Changed Jobs in last 12 Months', 'Open to new job opportunities', 'Most important aspect of new job opportunity: Salary', 'Most important aspect of new job opportunity: Equity', 'Most important aspect of new job opportunity: Important decisions', 'Most important aspect of new job opportunity: Health insurance', 'Most important aspect of new job opportunity: Industry', 'Most important aspect of new job opportunity: Tech stack', 'Most important aspect of new job opportunity: Company size', 'Most important aspect of new job opportunity: Company stage', 'Most important aspect of new job opportunity: Work - Life balance', 'Most important aspect of new job opportunity: Advancement', 'Most important aspect of new job opportunity: Job title', 'Most important aspect of new job opportunity: Office location', 'Most important aspect of new job opportunity: Quality of colleagues', 'Most important aspect of new job opportunity: Company culture', 'Most important aspect of new job opportunity: Company reputation', 'Most important aspect of new job opportunity: Building something that matters', 'Most important aspect of new job opportunity: Remote working', 'Most important aspect of new job opportunity: Flexible work options', 'How important is remote when evaluating new job opportunity?', 'Most annoying about job search: Finding time', \"Most annoying about job search: Finding job I'm qualified for\", 'Most annoying about job search: Finding interesting job', 'Most annoying about job search: Interesting companies rarely respond', 'Most annoying about job search: Writing and updating CV', 'Most annoying about job search: Taking time off work to interview', 'Most annoying about job search: The Interview', 'How often contacted by recruiters', 'Perception of recruiter contact', 'Perception of contact form: Email', 'Perception of contact form: LinkedIn', 'Perception of contact form: Xing', 'Perception of contact form: Phone', 'Perception of contact form: Stack Overflow Careers', 'Perception of contact form: Twitter', 'Perception of contact form: Facebook', 'Appealing message traits: Message is personalized', 'Appealing message traits: Code or projects mentioned', 'Appealing message traits: Stack Overflow activity mentioned', 'Appealing message traits: Team described', 'Appealing message traits: Company culture described', 'Appealing message traits: Salary information', 'Appealing message traits: Benefits & Perks', 'Appealing message traits: Stack Overflow Company Page', 'Most urgent info about job opportunity: Salary', 'Most urgent info about job opportunity: Benefits', 'Most urgent info about job opportunity: Company name', 'Most urgent info about job opportunity: Tech stack', 'Most urgent info about job opportunity: Office location', 'Most urgent info about job opportunity: Job title', 'Most urgent info about job opportunity: Colleagues', 'Most urgent info about job opportunity: Product details', 'Who do you want to communicate with about a new job opportunity: Headhunter', 'Who do you want to communicate with about a new job opportunity: In-house recruiter', 'Who do you want to communicate with about a new job opportunity: In-house tech recruiter', 'Who do you want to communicate with about a new job opportunity: Manager', 'Who do you want to communicate with about a new job opportunity: Developer', 'How can companies improve interview process: More live code', 'How can companies improve interview process: Flexible interview schedule', 'How can companies improve interview process: Remote interviews', 'How can companies improve interview process: Introduce me to boss', 'How can companies improve interview process: Introduce me to team', 'How can companies improve interview process: Gimme coffee', 'How can companies improve interview process: Show me workplace', 'How can companies improve interview process: Fewer brainteasers', 'How can companies improve interview process: Better preparation', 'Why try Stack Overflow Careers: No spam', 'Why try Stack Overflow Careers: Jobs site for programmers', 'Why try Stack Overflow Careers: Selection of revelant jobs', 'Why try Stack Overflow Careers: Showcase Stack Overflow activity', 'Why try Stack Overflow Careers: Jobs are on Stack Overflow', 'Why try Stack Overflow Careers: Other', 'How many caffeinated beverages per day?', 'How many hours programming as hobby per week?', 'How frequently land on or read Stack Overflow', 'Preferred text editor', 'Preferred text editor: write-in', 'Prefered IDE theme', 'Source control used: Git', 'Source control used: Mercurial', 'Source control used: SVN', 'Source control used: CVS', 'Source control used: Perforce', 'Source control used: TFS', 'Source control used: DCVS', 'Source control used: Bitkeeper', 'Source control used: Legacy / Custom', \"Source control used: I don't use source control\", 'Source control used: write-in', 'Prefered Source Control', 'Prefered Source Control: write-in', 'Why use Stack Overflow: Help for job', 'Why use Stack Overflow: To give help', \"Why use Stack Overflow: Can't do job without it\", 'Why use Stack Overflow: Maintain online presence', 'Why use Stack Overflow: Demonstrate expertise', 'Why use Stack Overflow: Communicate with others', 'Why use Stack Overflow: Receive help on personal projects', 'Why use Stack Overflow: Love to learn', \"Why use Stack Overflow: I don't use Stack Overflow\", \"How often are Stack Overflow's answers helpful\", 'Why answer: Help a programmer in need', 'Why answer: Help future programmers', 'Why answer: Demonstrate expertise', 'Why answer: Self promotion', 'Why answer: Sense of responsibility to developers', 'Why answer: No idea', \"Why answer: I don't answer and I don't want to\", \"Why answer: I don't answer but I want to\"]\n"
     ]
    }
   ],
   "source": [
    "print(list(df15_sal.columns))"
   ]
  },
  {
   "cell_type": "code",
   "execution_count": 174,
   "metadata": {},
   "outputs": [],
   "source": [
    "def dropExtraCols(df_ml):\n",
    "    extraCols = ['index',  'Tabs or Spaces',\n",
    "                  'Desktop Operating System', 'Desktop Operating System: write-in', \n",
    "                 'Current Lang & Tech: Android', 'Current Lang & Tech: Arduino', \n",
    "                 'Current Lang & Tech: AngularJS', 'Current Lang & Tech: C', 'Current Lang & Tech: C++', \n",
    "                 'Current Lang & Tech: C++11', 'Current Lang & Tech: C#', 'Current Lang & Tech: Cassandra', \n",
    "                 'Current Lang & Tech: CoffeeScript', 'Current Lang & Tech: Cordova', \n",
    "                 'Current Lang & Tech: Clojure', 'Current Lang & Tech: Cloud', 'Current Lang & Tech: Dart', \n",
    "                 'Current Lang & Tech: F#', 'Current Lang & Tech: Go', 'Current Lang & Tech: Hadoop', \n",
    "                 'Current Lang & Tech: Haskell', 'Current Lang & Tech: iOS', 'Current Lang & Tech: Java', \n",
    "                 'Current Lang & Tech: JavaScript', 'Current Lang & Tech: LAMP', 'Current Lang & Tech: Matlab',\n",
    "                 'Current Lang & Tech: MongoDB', 'Current Lang & Tech: Node.js', \n",
    "                 'Current Lang & Tech: Objective-C', 'Current Lang & Tech: Perl', 'Current Lang & Tech: PHP', \n",
    "                 'Current Lang & Tech: Python', 'Current Lang & Tech: R', 'Current Lang & Tech: Redis', \n",
    "                 'Current Lang & Tech: Ruby', 'Current Lang & Tech: Rust', 'Current Lang & Tech: Salesforce', \n",
    "                 'Current Lang & Tech: Scala', 'Current Lang & Tech: Sharepoint', 'Current Lang & Tech: Spark', \n",
    "                 'Current Lang & Tech: SQL', 'Current Lang & Tech: SQL Server', 'Current Lang & Tech: Swift', \n",
    "                 'Current Lang & Tech: Visual Basic', 'Current Lang & Tech: Windows Phone', \n",
    "                 'Current Lang & Tech: Wordpress', 'Current Lang & Tech: Write-In', \n",
    "                 'Future Lang & Tech: Android', 'Future Lang & Tech: Arduino', 'Future Lang & Tech: AngularJS',\n",
    "                 'Future Lang & Tech: C', 'Future Lang & Tech: C++', 'Future Lang & Tech: C++11', \n",
    "                 'Future Lang & Tech: C#', 'Future Lang & Tech: Cassandra', 'Future Lang & Tech: CoffeeScript',\n",
    "                 'Future Lang & Tech: Cordova', 'Future Lang & Tech: Clojure', \n",
    "                 'Future Lang & Tech: Cloud', 'Future Lang & Tech: Dart', 'Future Lang & Tech: F#', \n",
    "                 'Future Lang & Tech: Go', 'Future Lang & Tech: Hadoop', 'Future Lang & Tech: Haskell', \n",
    "                 'Future Lang & Tech: iOS', 'Future Lang & Tech: Java', 'Future Lang & Tech: JavaScript', \n",
    "                 'Future Lang & Tech: LAMP', 'Future Lang & Tech: Matlab', 'Future Lang & Tech: MongoDB', \n",
    "                 'Future Lang & Tech: Node.js', 'Future Lang & Tech: Objective-C', 'Future Lang & Tech: Perl',\n",
    "                 'Future Lang & Tech: PHP', 'Future Lang & Tech: Python', 'Future Lang & Tech: R', \n",
    "                 'Future Lang & Tech: Redis', 'Future Lang & Tech: Ruby', 'Future Lang & Tech: Rust', \n",
    "                 'Future Lang & Tech: Salesforce', 'Future Lang & Tech: Scala', \n",
    "                 'Future Lang & Tech: Sharepoint', 'Future Lang & Tech: Spark', 'Future Lang & Tech: SQL',\n",
    "                 'Future Lang & Tech: SQL Server', 'Future Lang & Tech: Swift', \n",
    "                 'Future Lang & Tech: Visual Basic', 'Future Lang & Tech: Windows Phone', \n",
    "                 'Future Lang & Tech: Wordpress', 'Future Lang & Tech: Write-In', \n",
    "                 'Training & Education: No formal training', 'Training & Education: On the job', \n",
    "                 'Training & Education: Boot camp or night school', 'Training & Education: Online Class', \n",
    "                 'Training & Education: Mentorship', 'Training & Education: Industry certification', \n",
    "                 'Training & Education: Some college, but no CS degree', 'Training & Education: BS in CS', \n",
    "                 'Training & Education: Masters in CS', 'Training & Education: PhD in CS', \n",
    "                 'Training & Education: Other', 'Compensation',  \n",
    "                   \n",
    "                  \n",
    "                 \n",
    "                 'Most important aspect of new job opportunity: Important decisions', \n",
    "                 'Most important aspect of new job opportunity: Health insurance', \n",
    "                 'Most important aspect of new job opportunity: Industry', \n",
    "                 'Most important aspect of new job opportunity: Tech stack', \n",
    "                 'Most important aspect of new job opportunity: Company size', \n",
    "                 'Most important aspect of new job opportunity: Company stage', \n",
    "                 'Most important aspect of new job opportunity: Work - Life balance', \n",
    "                 'Most important aspect of new job opportunity: Advancement', \n",
    "                 'Most important aspect of new job opportunity: Job title', \n",
    "                 'Most important aspect of new job opportunity: Office location', \n",
    "                 'Most important aspect of new job opportunity: Quality of colleagues', \n",
    "                 'Most important aspect of new job opportunity: Company culture', \n",
    "                 'Most important aspect of new job opportunity: Company reputation', \n",
    "                 'Most important aspect of new job opportunity: Building something that matters', \n",
    "                  \n",
    "                 \n",
    "                 'Most annoying about job search: Finding time', \n",
    "                 \"Most annoying about job search: Finding job I'm qualified for\", \n",
    "                 'Most annoying about job search: Finding interesting job', \n",
    "                 'Most annoying about job search: Interesting companies rarely respond', \n",
    "                 'Most annoying about job search: Writing and updating CV', \n",
    "                 'Most annoying about job search: Taking time off work to interview', \n",
    "                 'Most annoying about job search: The Interview', \n",
    "                 'Perception of recruiter contact', 'Perception of contact form: Email', \n",
    "                 'Perception of contact form: LinkedIn', 'Perception of contact form: Xing', \n",
    "                 'Perception of contact form: Phone', 'Perception of contact form: Stack Overflow Careers', \n",
    "                 'Perception of contact form: Twitter', 'Perception of contact form: Facebook', \n",
    "                 'Appealing message traits: Message is personalized', \n",
    "                 'Appealing message traits: Code or projects mentioned', \n",
    "                 'Appealing message traits: Stack Overflow activity mentioned', \n",
    "                 'Appealing message traits: Team described', 'Appealing message traits: Company culture described', 'Appealing message traits: Salary information', \n",
    "                  'Appealing message traits: Stack Overflow Company Page', 'Most urgent info about job opportunity: Salary', \n",
    "                  'Most urgent info about job opportunity: Company name', 'Most urgent info about job opportunity: Tech stack', \n",
    "                 'Most urgent info about job opportunity: Office location', 'Most urgent info about job opportunity: Job title', 'Most urgent info about job opportunity: Colleagues', \n",
    "                 'Most urgent info about job opportunity: Product details', 'Who do you want to communicate with about a new job opportunity: Headhunter', \n",
    "                 'Who do you want to communicate with about a new job opportunity: In-house recruiter', \n",
    "                 'Who do you want to communicate with about a new job opportunity: In-house tech recruiter', \n",
    "                 'Who do you want to communicate with about a new job opportunity: Manager', 'Who do you want to communicate with about a new job opportunity: Developer', \n",
    "                 'How can companies improve interview process: More live code', 'How can companies improve interview process: Flexible interview schedule', 'How can companies improve interview process: Remote interviews', \n",
    "                 'How can companies improve interview process: Introduce me to boss', 'How can companies improve interview process: Introduce me to team', 'How can companies improve interview process: Gimme coffee', \n",
    "                 'How can companies improve interview process: Show me workplace', 'How can companies improve interview process: Fewer brainteasers', 'How can companies improve interview process: Better preparation', \n",
    "                 'Why try Stack Overflow Careers: No spam', 'Why try Stack Overflow Careers: Jobs site for programmers', 'Why try Stack Overflow Careers: Selection of revelant jobs', 'Why try Stack Overflow Careers: Showcase Stack Overflow activity', \n",
    "                 'Why try Stack Overflow Careers: Jobs are on Stack Overflow', 'Why try Stack Overflow Careers: Other', 'How many caffeinated beverages per day?', 'How many hours programming as hobby per week?', \n",
    "                 'How frequently land on or read Stack Overflow', 'Preferred text editor', 'Preferred text editor: write-in', 'Prefered IDE theme', 'Source control used: Git', 'Source control used: Mercurial', \n",
    "                 'Source control used: SVN', 'Source control used: CVS', 'Source control used: Perforce', 'Source control used: TFS', 'Source control used: DCVS', 'Source control used: Bitkeeper', 'Source control used: Legacy / Custom', \n",
    "                 \"Source control used: I don't use source control\", 'Source control used: write-in', 'Prefered Source Control', 'Prefered Source Control: write-in', 'Why use Stack Overflow: Help for job', 'Why use Stack Overflow: To give help', \n",
    "                 \"Why use Stack Overflow: Can't do job without it\", 'Why use Stack Overflow: Maintain online presence', 'Why use Stack Overflow: Demonstrate expertise', 'Why use Stack Overflow: Communicate with others', 'Why use Stack Overflow: Receive help on personal projects', \n",
    "                 'Why use Stack Overflow: Love to learn', \"Why use Stack Overflow: I don't use Stack Overflow\", \"How often are Stack Overflow's answers helpful\", \n",
    "                 'Why answer: Help a programmer in need', 'Why answer: Help future programmers', 'Why answer: Demonstrate expertise', 'Why answer: Self promotion', 'Why answer: Sense of responsibility to developers', 'Why answer: No idea', \"Why answer: I don't answer and I don't want to\",\n",
    "                 \"Why answer: I don't answer but I want to\"]\n",
    "    df_ml = df_ml.drop(extraCols, axis=1)\n",
    "    return df_ml"
   ]
  },
  {
   "cell_type": "code",
   "execution_count": 177,
   "metadata": {},
   "outputs": [
    {
     "name": "stdout",
     "output_type": "stream",
     "text": [
      "Number of features =  142\n",
      "Feature Set =  ['Country_Argentina', 'Country_Armenia', 'Country_Australia', 'Country_Austria', 'Country_Belgium', 'Country_Brazil', 'Country_Bulgaria', 'Country_Canada', 'Country_China', 'Country_Czech Republic', 'Country_Denmark', 'Country_Finland', 'Country_France', 'Country_Germany', 'Country_Greece', 'Country_Hungary', 'Country_India', 'Country_Indonesia', 'Country_Iran', 'Country_Ireland {Republic}', 'Country_Israel', 'Country_Italy', 'Country_Mexico', 'Country_Netherlands', 'Country_New Zealand', 'Country_Norway', 'Country_Pakistan', 'Country_Poland', 'Country_Portugal', 'Country_Romania', 'Country_Russian Federation', 'Country_South Africa', 'Country_Spain', 'Country_Sweden', 'Country_Switzerland', 'Country_Turkey', 'Country_Ukraine', 'Country_United Kingdom', 'Country_United States', 'Age_20-24', 'Age_25-29', 'Age_30-34', 'Age_35-39', 'Age_40-50', 'Age_51-60', 'Age_< 20', 'Age_Prefer not to disclose', 'Gender_Female', 'Gender_Male', 'Gender_Other', 'Gender_Prefer not to disclose', 'Years IT / Programming Experience_1 - 2 years', 'Years IT / Programming Experience_11+ years', 'Years IT / Programming Experience_2 - 5 years', 'Years IT / Programming Experience_6 - 10 years', 'Years IT / Programming Experience_Less than 1 year', 'Occupation_Back-end web developer', 'Occupation_Business intelligence or data warehousing expert', 'Occupation_Data scientist', 'Occupation_Database administrator', 'Occupation_Designer', 'Occupation_Desktop developer', 'Occupation_DevOps', 'Occupation_Developer with a statistics or mathematics background', 'Occupation_Embedded application developer', 'Occupation_Enterprise level services developer', 'Occupation_Executive (VP of Eng., CTO, CIO, etc.)', 'Occupation_Front-end web developer', 'Occupation_Full-stack web developer', 'Occupation_Graphics programmer', 'Occupation_Machine learning developer', 'Occupation_Mobile developer', 'Occupation_Mobile developer - Android', 'Occupation_Mobile developer - iOS', 'Occupation_Product manager', 'Occupation_Quality Assurance', 'Occupation_Student', 'Occupation_System administrator', 'Employment Status_Employed full-time', 'Employment Status_Employed part-time', 'Employment Status_Freelance / Contractor', \"Employment Status_I'm a student\", 'Employment Status_Other', 'Employment Status_Prefer not to disclose', 'Employment Status_Unemployed', 'Industry_Aerospace', 'Industry_Consulting', 'Industry_Consumer Products', 'Industry_Defense', 'Industry_Education', 'Industry_Finance / Banking', 'Industry_Foundation / Non-Profit', 'Industry_Gaming', 'Industry_Government', 'Industry_Healthcare', \"Industry_I'm a student\", 'Industry_Internet', 'Industry_Manufacturing', 'Industry_Media / Advertising', 'Industry_Other (please specify)', 'Industry_Retail', 'Industry_Software Products', 'Industry_Telecommunications', 'Industry_Web Services', 'Job Satisfaction_I hate my job', 'Job Satisfaction_I love my job', \"Job Satisfaction_I'm neither satisfied nor dissatisfied with my job\", \"Job Satisfaction_I'm somewhat dissatisfied with my job\", \"Job Satisfaction_I'm somewhat satisfied with my job\", 'Job Satisfaction_Other (please specify)', 'Purchasing Power_I can buy anything I want without asking anyone', 'Purchasing Power_I can recommend or request products', 'Purchasing Power_I have a discretionary budget at my disposal', 'Purchasing Power_I have no say in purchasing what I need or want at work', \"Purchasing Power_I influence purchasing decisions, but don't have final approval\", 'Purchasing Power_Other', 'Remote Status_Full-time Remote', 'Remote Status_I rarely work remote', 'Remote Status_Never', 'Remote Status_Part-time Remote', 'Changed Jobs in last 12 Months_No', \"Changed Jobs in last 12 Months_No (I'm a student)\", 'Changed Jobs in last 12 Months_Yes', 'Open to new job opportunities_I am actively looking for a new job', 'Open to new job opportunities_I am not interested in other job opportunities', 'Open to new job opportunities_I am open to new job opportunities', 'Most important aspect of new job opportunity: Salary_Salary', 'Most important aspect of new job opportunity: Equity_Equity', 'Most important aspect of new job opportunity: Remote working_Remote working options', 'Most important aspect of new job opportunity: Flexible work options_Flexible work hours', \"How important is remote when evaluating new job opportunity?_It's non-negotiable\", \"How important is remote when evaluating new job opportunity?_Neutral - I don't mind working in the office or remotely\", 'How important is remote when evaluating new job opportunity?_Not important', 'How important is remote when evaluating new job opportunity?_Somewhat important', 'How important is remote when evaluating new job opportunity?_Very important', 'How often contacted by recruiters_A few times a week', 'How often contacted by recruiters_About once a week', 'How often contacted by recruiters_Never', 'How often contacted by recruiters_Rarely', 'How often contacted by recruiters_Several times a day', 'Appealing message traits: Benefits & Perks_Benefits / perks of the work environment are described', 'Most urgent info about job opportunity: Benefits_Benefits']\n",
      "Train score =  0.6014833975357736\n",
      "Test score =  0.5720289938324871\n"
     ]
    }
   ],
   "source": [
    "# Applying ML on 2015 for predicting salary\n",
    "\n",
    "from sklearn.model_selection import train_test_split\n",
    "from sklearn.linear_model import LinearRegression\n",
    "from sklearn.metrics import r2_score, mean_squared_error\n",
    "\n",
    "df15_ml = df15_sal\n",
    "\n",
    "test_size=.3\n",
    "rand_state=42\n",
    "\n",
    "#Drop columns with all NaN values\n",
    "df15_ml = df15_ml.dropna(how='all', axis=1)\n",
    "\n",
    "df15_ml = dropExtraCols(df15_ml)\n",
    "\n",
    "#Pull a list of the column names of the categorical variables\n",
    "cat_df15_ml = df15_ml.select_dtypes(include=['object'])\n",
    "cat_cols = cat_df15_ml.columns\n",
    "\n",
    "#dummy all the cat_cols\n",
    "for col in  cat_cols:\n",
    "    col_val_count = df15_ml[col].value_counts()\n",
    "    col_dummies = pd.get_dummies(df15_ml[col].loc[df15_ml[col].isin(col_val_count.index[col_val_count>=50])], prefix=col, prefix_sep='_', drop_first=False, dummy_na=False)\n",
    "    df15_ml = pd.concat([df15_ml.drop(col, axis=1), col_dummies], axis=1)\n",
    "\n",
    "# Mean function\n",
    "fill_mean = lambda col: col.fillna(col.mean())\n",
    "# Fill the mean\n",
    "df15_ml = df15_ml.apply(fill_mean, axis=0)\n",
    "\n",
    "#Split into explanatory and response variables\n",
    "X = df15_ml.drop(salary_col_name, axis=1)\n",
    "y = df15_ml[salary_col_name]\n",
    "\n",
    "#Split into train and test\n",
    "X_train, X_test, y_train, y_test = train_test_split(X, y, test_size=test_size, random_state=rand_state)\n",
    "\n",
    "lm_model = LinearRegression(normalize=True) # Instantiate\n",
    "lm_model.fit(X_train, y_train) #Fit\n",
    "\n",
    "#Predict using your model\n",
    "y_train_preds = lm_model.predict(X_train)\n",
    "y_test_preds = lm_model.predict(X_test)\n",
    "\n",
    "\n",
    "#Score using your model\n",
    "train_score = r2_score(y_train, y_train_preds)\n",
    "test_score = r2_score(y_test, y_test_preds)\n",
    "\n",
    "train_ms_error = mean_squared_error(y_train, y_train_preds)\n",
    "test_ms_error = mean_squared_error(y_test, y_test_preds)\n",
    "\n",
    "print(\"Number of features = \", len(X.columns))\n",
    "print(\"Feature Set = \", list(X.columns))\n",
    "print(\"Train score = \", train_score)\n",
    "print(\"Test score = \", test_score)"
   ]
  },
  {
   "cell_type": "code",
   "execution_count": null,
   "metadata": {},
   "outputs": [],
   "source": []
  },
  {
   "cell_type": "code",
   "execution_count": 180,
   "metadata": {},
   "outputs": [
    {
     "data": {
      "text/html": [
       "<div>\n",
       "<style scoped>\n",
       "    .dataframe tbody tr th:only-of-type {\n",
       "        vertical-align: middle;\n",
       "    }\n",
       "\n",
       "    .dataframe tbody tr th {\n",
       "        vertical-align: top;\n",
       "    }\n",
       "\n",
       "    .dataframe thead th {\n",
       "        text-align: right;\n",
       "    }\n",
       "</style>\n",
       "<table border=\"1\" class=\"dataframe\">\n",
       "  <thead>\n",
       "    <tr style=\"text-align: right;\">\n",
       "      <th></th>\n",
       "      <th>Year</th>\n",
       "      <th>Model Accuracy</th>\n",
       "      <th>Number of Features</th>\n",
       "    </tr>\n",
       "  </thead>\n",
       "  <tbody>\n",
       "    <tr>\n",
       "      <th>0</th>\n",
       "      <td>2011</td>\n",
       "      <td>0.565</td>\n",
       "      <td>105</td>\n",
       "    </tr>\n",
       "    <tr>\n",
       "      <th>1</th>\n",
       "      <td>2012</td>\n",
       "      <td>0.606</td>\n",
       "      <td>120</td>\n",
       "    </tr>\n",
       "    <tr>\n",
       "      <th>2</th>\n",
       "      <td>2013</td>\n",
       "      <td>0.620</td>\n",
       "      <td>190</td>\n",
       "    </tr>\n",
       "  </tbody>\n",
       "</table>\n",
       "</div>"
      ],
      "text/plain": [
       "   Year  Model Accuracy  Number of Features\n",
       "0  2011           0.565                 105\n",
       "1  2012           0.606                 120\n",
       "2  2013           0.620                 190"
      ]
     },
     "execution_count": 180,
     "metadata": {},
     "output_type": "execute_result"
    }
   ],
   "source": [
    "ml_results = [['2011', 0.565, 105], ['2012', 0.606, 120], ['2013', 0.620, 190] ]\n",
    "df_results = pd.DataFrame(ml_results, columns=['Year', 'Model Accuracy', 'Number of Features'] )\n",
    "df_results.head()"
   ]
  },
  {
   "cell_type": "code",
   "execution_count": null,
   "metadata": {},
   "outputs": [],
   "source": []
  }
 ],
 "metadata": {
  "kernelspec": {
   "display_name": "Python 3",
   "language": "python",
   "name": "python3"
  },
  "language_info": {
   "codemirror_mode": {
    "name": "ipython",
    "version": 3
   },
   "file_extension": ".py",
   "mimetype": "text/x-python",
   "name": "python",
   "nbconvert_exporter": "python",
   "pygments_lexer": "ipython3",
   "version": "3.7.3"
  }
 },
 "nbformat": 4,
 "nbformat_minor": 2
}
